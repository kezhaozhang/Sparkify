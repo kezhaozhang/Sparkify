{
 "cells": [
  {
   "cell_type": "code",
   "execution_count": 1,
   "metadata": {},
   "outputs": [],
   "source": [
    "import pandas as pd\n",
    "import numpy as np\n",
    "import seaborn as sns\n",
    "import matplotlib.pyplot as plt\n",
    "from plotnine import *"
   ]
  },
  {
   "cell_type": "code",
   "execution_count": 3,
   "metadata": {},
   "outputs": [],
   "source": [
    "g_c = pd.DataFrame({'Churn_Cancel': [1, 0], 'F': [3347, 8279], 'M': [2656, 8995]})\n"
   ]
  },
  {
   "cell_type": "code",
   "execution_count": 4,
   "metadata": {},
   "outputs": [
    {
     "data": {
      "text/html": [
       "<div>\n",
       "<style scoped>\n",
       "    .dataframe tbody tr th:only-of-type {\n",
       "        vertical-align: middle;\n",
       "    }\n",
       "\n",
       "    .dataframe tbody tr th {\n",
       "        vertical-align: top;\n",
       "    }\n",
       "\n",
       "    .dataframe thead th {\n",
       "        text-align: right;\n",
       "    }\n",
       "</style>\n",
       "<table border=\"1\" class=\"dataframe\">\n",
       "  <thead>\n",
       "    <tr style=\"text-align: right;\">\n",
       "      <th></th>\n",
       "      <th>Churn_Cancel</th>\n",
       "      <th>F</th>\n",
       "      <th>M</th>\n",
       "    </tr>\n",
       "  </thead>\n",
       "  <tbody>\n",
       "    <tr>\n",
       "      <th>0</th>\n",
       "      <td>1</td>\n",
       "      <td>3347</td>\n",
       "      <td>2656</td>\n",
       "    </tr>\n",
       "    <tr>\n",
       "      <th>1</th>\n",
       "      <td>0</td>\n",
       "      <td>8279</td>\n",
       "      <td>8995</td>\n",
       "    </tr>\n",
       "  </tbody>\n",
       "</table>\n",
       "</div>"
      ],
      "text/plain": [
       "   Churn_Cancel     F     M\n",
       "0             1  3347  2656\n",
       "1             0  8279  8995"
      ]
     },
     "execution_count": 4,
     "metadata": {},
     "output_type": "execute_result"
    }
   ],
   "source": [
    "g_c"
   ]
  },
  {
   "cell_type": "code",
   "execution_count": 11,
   "metadata": {},
   "outputs": [],
   "source": [
    "gc = g_c.melt(id_vars='Churn_Cancel', value_vars=['F', 'M'], var_name='Gender', value_name='Count')"
   ]
  },
  {
   "cell_type": "code",
   "execution_count": 12,
   "metadata": {},
   "outputs": [
    {
     "data": {
      "text/html": [
       "<div>\n",
       "<style scoped>\n",
       "    .dataframe tbody tr th:only-of-type {\n",
       "        vertical-align: middle;\n",
       "    }\n",
       "\n",
       "    .dataframe tbody tr th {\n",
       "        vertical-align: top;\n",
       "    }\n",
       "\n",
       "    .dataframe thead th {\n",
       "        text-align: right;\n",
       "    }\n",
       "</style>\n",
       "<table border=\"1\" class=\"dataframe\">\n",
       "  <thead>\n",
       "    <tr style=\"text-align: right;\">\n",
       "      <th></th>\n",
       "      <th>Churn_Cancel</th>\n",
       "      <th>Gender</th>\n",
       "      <th>Count</th>\n",
       "    </tr>\n",
       "  </thead>\n",
       "  <tbody>\n",
       "    <tr>\n",
       "      <th>0</th>\n",
       "      <td>1</td>\n",
       "      <td>F</td>\n",
       "      <td>3347</td>\n",
       "    </tr>\n",
       "    <tr>\n",
       "      <th>1</th>\n",
       "      <td>0</td>\n",
       "      <td>F</td>\n",
       "      <td>8279</td>\n",
       "    </tr>\n",
       "    <tr>\n",
       "      <th>2</th>\n",
       "      <td>1</td>\n",
       "      <td>M</td>\n",
       "      <td>2656</td>\n",
       "    </tr>\n",
       "    <tr>\n",
       "      <th>3</th>\n",
       "      <td>0</td>\n",
       "      <td>M</td>\n",
       "      <td>8995</td>\n",
       "    </tr>\n",
       "  </tbody>\n",
       "</table>\n",
       "</div>"
      ],
      "text/plain": [
       "   Churn_Cancel Gender  Count\n",
       "0             1      F   3347\n",
       "1             0      F   8279\n",
       "2             1      M   2656\n",
       "3             0      M   8995"
      ]
     },
     "execution_count": 12,
     "metadata": {},
     "output_type": "execute_result"
    }
   ],
   "source": [
    "gc"
   ]
  },
  {
   "cell_type": "code",
   "execution_count": 20,
   "metadata": {},
   "outputs": [
    {
     "data": {
      "image/png": "[encoded data removed]",
      "text/plain": [
       "<Figure size 640x480 with 1 Axes>"
      ]
     },
     "metadata": {},
     "output_type": "display_data"
    },
    {
     "data": {
      "text/plain": [
       "<ggplot: (-9223371875397683561)>"
      ]
     },
     "execution_count": 20,
     "metadata": {},
     "output_type": "execute_result"
    }
   ],
   "source": [
    "ggplot(gc, aes(fill='factor(Churn_Cancel)', y='Count', x='Gender')) +\\\n",
    "geom_col()"
   ]
  },
  {
   "cell_type": "code",
   "execution_count": 21,
   "metadata": {},
   "outputs": [
    {
     "data": {
      "text/html": [
       "<div>\n",
       "<style scoped>\n",
       "    .dataframe tbody tr th:only-of-type {\n",
       "        vertical-align: middle;\n",
       "    }\n",
       "\n",
       "    .dataframe tbody tr th {\n",
       "        vertical-align: top;\n",
       "    }\n",
       "\n",
       "    .dataframe thead th {\n",
       "        text-align: right;\n",
       "    }\n",
       "</style>\n",
       "<table border=\"1\" class=\"dataframe\">\n",
       "  <thead>\n",
       "    <tr style=\"text-align: right;\">\n",
       "      <th></th>\n",
       "      <th>Churn_Cancel</th>\n",
       "      <th>Gender</th>\n",
       "      <th>Count</th>\n",
       "    </tr>\n",
       "  </thead>\n",
       "  <tbody>\n",
       "    <tr>\n",
       "      <th>0</th>\n",
       "      <td>1</td>\n",
       "      <td>F</td>\n",
       "      <td>3347</td>\n",
       "    </tr>\n",
       "    <tr>\n",
       "      <th>1</th>\n",
       "      <td>0</td>\n",
       "      <td>F</td>\n",
       "      <td>8279</td>\n",
       "    </tr>\n",
       "    <tr>\n",
       "      <th>2</th>\n",
       "      <td>1</td>\n",
       "      <td>M</td>\n",
       "      <td>2656</td>\n",
       "    </tr>\n",
       "    <tr>\n",
       "      <th>3</th>\n",
       "      <td>0</td>\n",
       "      <td>M</td>\n",
       "      <td>8995</td>\n",
       "    </tr>\n",
       "  </tbody>\n",
       "</table>\n",
       "</div>"
      ],
      "text/plain": [
       "   Churn_Cancel Gender  Count\n",
       "0             1      F   3347\n",
       "1             0      F   8279\n",
       "2             1      M   2656\n",
       "3             0      M   8995"
      ]
     },
     "execution_count": 21,
     "metadata": {},
     "output_type": "execute_result"
    }
   ],
   "source": [
    "gc"
   ]
  },
  {
   "cell_type": "code",
   "execution_count": 25,
   "metadata": {},
   "outputs": [
    {
     "ename": "SyntaxError",
     "evalue": "lambda cannot contain assignment (<ipython-input-25-a17d0bdfa586>, line 1)",
     "output_type": "error",
     "traceback": [
      "\u001b[1;36m  File \u001b[1;32m\"<ipython-input-25-a17d0bdfa586>\"\u001b[1;36m, line \u001b[1;32m1\u001b[0m\n\u001b[1;33m    gc.groupby('Gender').apply(lambda x: x['Count']=x.Count/x.count.sum())\u001b[0m\n\u001b[1;37m                              ^\u001b[0m\n\u001b[1;31mSyntaxError\u001b[0m\u001b[1;31m:\u001b[0m lambda cannot contain assignment\n"
     ]
    }
   ],
   "source": [
    "gc.groupby('Gender').apply(lambda x: x['Count']=x.Count/x.count.sum())"
   ]
  },
  {
   "cell_type": "code",
   "execution_count": 23,
   "metadata": {},
   "outputs": [
    {
     "data": {
      "text/plain": [
       "0    0.143790\n",
       "1    0.355673\n",
       "2    0.114104\n",
       "3    0.386433\n",
       "Name: Count, dtype: float64"
      ]
     },
     "execution_count": 23,
     "metadata": {},
     "output_type": "execute_result"
    }
   ],
   "source": [
    "gc.Count/gc.Count.sum()"
   ]
  },
  {
   "cell_type": "code",
   "execution_count": 26,
   "metadata": {},
   "outputs": [
    {
     "data": {
      "text/html": [
       "<div>\n",
       "<style scoped>\n",
       "    .dataframe tbody tr th:only-of-type {\n",
       "        vertical-align: middle;\n",
       "    }\n",
       "\n",
       "    .dataframe tbody tr th {\n",
       "        vertical-align: top;\n",
       "    }\n",
       "\n",
       "    .dataframe thead th {\n",
       "        text-align: right;\n",
       "    }\n",
       "</style>\n",
       "<table border=\"1\" class=\"dataframe\">\n",
       "  <thead>\n",
       "    <tr style=\"text-align: right;\">\n",
       "      <th></th>\n",
       "      <th>Churn_Cancel</th>\n",
       "      <th>Gender</th>\n",
       "      <th>Count</th>\n",
       "    </tr>\n",
       "  </thead>\n",
       "  <tbody>\n",
       "    <tr>\n",
       "      <th>0</th>\n",
       "      <td>1</td>\n",
       "      <td>F</td>\n",
       "      <td>3347</td>\n",
       "    </tr>\n",
       "    <tr>\n",
       "      <th>1</th>\n",
       "      <td>0</td>\n",
       "      <td>F</td>\n",
       "      <td>8279</td>\n",
       "    </tr>\n",
       "    <tr>\n",
       "      <th>2</th>\n",
       "      <td>1</td>\n",
       "      <td>M</td>\n",
       "      <td>2656</td>\n",
       "    </tr>\n",
       "    <tr>\n",
       "      <th>3</th>\n",
       "      <td>0</td>\n",
       "      <td>M</td>\n",
       "      <td>8995</td>\n",
       "    </tr>\n",
       "  </tbody>\n",
       "</table>\n",
       "</div>"
      ],
      "text/plain": [
       "   Churn_Cancel Gender  Count\n",
       "0             1      F   3347\n",
       "1             0      F   8279\n",
       "2             1      M   2656\n",
       "3             0      M   8995"
      ]
     },
     "execution_count": 26,
     "metadata": {},
     "output_type": "execute_result"
    }
   ],
   "source": [
    "gc"
   ]
  },
  {
   "cell_type": "code",
   "execution_count": 27,
   "metadata": {},
   "outputs": [
    {
     "data": {
      "text/plain": [
       "Gender\n",
       "F    11626\n",
       "M    11651\n",
       "Name: Count, dtype: int64"
      ]
     },
     "execution_count": 27,
     "metadata": {},
     "output_type": "execute_result"
    }
   ],
   "source": [
    "gc.groupby('Gender')['Count'].sum()"
   ]
  },
  {
   "cell_type": "code",
   "execution_count": 28,
   "metadata": {},
   "outputs": [
    {
     "data": {
      "text/html": [
       "<div>\n",
       "<style scoped>\n",
       "    .dataframe tbody tr th:only-of-type {\n",
       "        vertical-align: middle;\n",
       "    }\n",
       "\n",
       "    .dataframe tbody tr th {\n",
       "        vertical-align: top;\n",
       "    }\n",
       "\n",
       "    .dataframe thead th {\n",
       "        text-align: right;\n",
       "    }\n",
       "</style>\n",
       "<table border=\"1\" class=\"dataframe\">\n",
       "  <thead>\n",
       "    <tr style=\"text-align: right;\">\n",
       "      <th></th>\n",
       "      <th>Gender</th>\n",
       "      <th>Count</th>\n",
       "    </tr>\n",
       "  </thead>\n",
       "  <tbody>\n",
       "    <tr>\n",
       "      <th>0</th>\n",
       "      <td>F</td>\n",
       "      <td>11626</td>\n",
       "    </tr>\n",
       "    <tr>\n",
       "      <th>1</th>\n",
       "      <td>M</td>\n",
       "      <td>11651</td>\n",
       "    </tr>\n",
       "  </tbody>\n",
       "</table>\n",
       "</div>"
      ],
      "text/plain": [
       "  Gender  Count\n",
       "0      F  11626\n",
       "1      M  11651"
      ]
     },
     "execution_count": 28,
     "metadata": {},
     "output_type": "execute_result"
    }
   ],
   "source": [
    "_27.reset_index()"
   ]
  },
  {
   "cell_type": "code",
   "execution_count": 29,
   "metadata": {},
   "outputs": [
    {
     "data": {
      "text/html": [
       "<div>\n",
       "<style scoped>\n",
       "    .dataframe tbody tr th:only-of-type {\n",
       "        vertical-align: middle;\n",
       "    }\n",
       "\n",
       "    .dataframe tbody tr th {\n",
       "        vertical-align: top;\n",
       "    }\n",
       "\n",
       "    .dataframe thead th {\n",
       "        text-align: right;\n",
       "    }\n",
       "</style>\n",
       "<table border=\"1\" class=\"dataframe\">\n",
       "  <thead>\n",
       "    <tr style=\"text-align: right;\">\n",
       "      <th></th>\n",
       "      <th>Churn_Cancel</th>\n",
       "      <th>Gender</th>\n",
       "      <th>Count_x</th>\n",
       "      <th>Count_y</th>\n",
       "    </tr>\n",
       "  </thead>\n",
       "  <tbody>\n",
       "    <tr>\n",
       "      <th>0</th>\n",
       "      <td>1</td>\n",
       "      <td>F</td>\n",
       "      <td>3347</td>\n",
       "      <td>11626</td>\n",
       "    </tr>\n",
       "    <tr>\n",
       "      <th>1</th>\n",
       "      <td>0</td>\n",
       "      <td>F</td>\n",
       "      <td>8279</td>\n",
       "      <td>11626</td>\n",
       "    </tr>\n",
       "    <tr>\n",
       "      <th>2</th>\n",
       "      <td>1</td>\n",
       "      <td>M</td>\n",
       "      <td>2656</td>\n",
       "      <td>11651</td>\n",
       "    </tr>\n",
       "    <tr>\n",
       "      <th>3</th>\n",
       "      <td>0</td>\n",
       "      <td>M</td>\n",
       "      <td>8995</td>\n",
       "      <td>11651</td>\n",
       "    </tr>\n",
       "  </tbody>\n",
       "</table>\n",
       "</div>"
      ],
      "text/plain": [
       "   Churn_Cancel Gender  Count_x  Count_y\n",
       "0             1      F     3347    11626\n",
       "1             0      F     8279    11626\n",
       "2             1      M     2656    11651\n",
       "3             0      M     8995    11651"
      ]
     },
     "execution_count": 29,
     "metadata": {},
     "output_type": "execute_result"
    }
   ],
   "source": [
    "gc.merge(_28, on='Gender')"
   ]
  },
  {
   "cell_type": "code",
   "execution_count": null,
   "metadata": {},
   "outputs": [],
   "source": [
    "+-------------------+---+---+\n",
    "|churn_Cancel_gender|  F|  M|\n",
    "+-------------------+---+---+\n",
    "|                  1| 45| 54|\n",
    "|                  0|153|196|\n",
    "+-------------------+---+---+\n",
    "\n",
    "+----------------------+---+---+\n",
    "|churn_Downgrade_gender|  F|  M|\n",
    "+----------------------+---+---+\n",
    "|                     1| 46| 51|\n",
    "|                     0|152|199|\n",
    "+----------------------+---+---+"
   ]
  },
  {
   "cell_type": "code",
   "execution_count": 30,
   "metadata": {},
   "outputs": [
    {
     "data": {
      "text/plain": [
       "['a', 'a', 'a', 'a']"
      ]
     },
     "execution_count": 30,
     "metadata": {},
     "output_type": "execute_result"
    }
   ],
   "source": [
    "['a']*4"
   ]
  },
  {
   "cell_type": "code",
   "execution_count": 31,
   "metadata": {},
   "outputs": [],
   "source": [
    "churn = pd.DataFrame({\n",
    "    'Type': ['churn_Cancel']*4 + ['churn_Downgrade']*4,\n",
    "    'Churn':[1, 0, 1, 0, 1, 0, 1, 0],\n",
    "    'Gender': ['F', 'F', 'M', 'M']*2,\n",
    "    'Count': [45, 153, 54, 196, 46, 152, 51, 199]\n",
    "})"
   ]
  },
  {
   "cell_type": "code",
   "execution_count": 32,
   "metadata": {},
   "outputs": [
    {
     "data": {
      "text/html": [
       "<div>\n",
       "<style scoped>\n",
       "    .dataframe tbody tr th:only-of-type {\n",
       "        vertical-align: middle;\n",
       "    }\n",
       "\n",
       "    .dataframe tbody tr th {\n",
       "        vertical-align: top;\n",
       "    }\n",
       "\n",
       "    .dataframe thead th {\n",
       "        text-align: right;\n",
       "    }\n",
       "</style>\n",
       "<table border=\"1\" class=\"dataframe\">\n",
       "  <thead>\n",
       "    <tr style=\"text-align: right;\">\n",
       "      <th></th>\n",
       "      <th>Type</th>\n",
       "      <th>Churn</th>\n",
       "      <th>Gender</th>\n",
       "      <th>Count</th>\n",
       "    </tr>\n",
       "  </thead>\n",
       "  <tbody>\n",
       "    <tr>\n",
       "      <th>0</th>\n",
       "      <td>churn_Cancel</td>\n",
       "      <td>1</td>\n",
       "      <td>F</td>\n",
       "      <td>45</td>\n",
       "    </tr>\n",
       "    <tr>\n",
       "      <th>1</th>\n",
       "      <td>churn_Cancel</td>\n",
       "      <td>0</td>\n",
       "      <td>F</td>\n",
       "      <td>153</td>\n",
       "    </tr>\n",
       "    <tr>\n",
       "      <th>2</th>\n",
       "      <td>churn_Cancel</td>\n",
       "      <td>1</td>\n",
       "      <td>M</td>\n",
       "      <td>54</td>\n",
       "    </tr>\n",
       "    <tr>\n",
       "      <th>3</th>\n",
       "      <td>churn_Cancel</td>\n",
       "      <td>0</td>\n",
       "      <td>M</td>\n",
       "      <td>196</td>\n",
       "    </tr>\n",
       "    <tr>\n",
       "      <th>4</th>\n",
       "      <td>churn_Downgrade</td>\n",
       "      <td>1</td>\n",
       "      <td>F</td>\n",
       "      <td>46</td>\n",
       "    </tr>\n",
       "    <tr>\n",
       "      <th>5</th>\n",
       "      <td>churn_Downgrade</td>\n",
       "      <td>0</td>\n",
       "      <td>F</td>\n",
       "      <td>152</td>\n",
       "    </tr>\n",
       "    <tr>\n",
       "      <th>6</th>\n",
       "      <td>churn_Downgrade</td>\n",
       "      <td>1</td>\n",
       "      <td>M</td>\n",
       "      <td>51</td>\n",
       "    </tr>\n",
       "    <tr>\n",
       "      <th>7</th>\n",
       "      <td>churn_Downgrade</td>\n",
       "      <td>0</td>\n",
       "      <td>M</td>\n",
       "      <td>199</td>\n",
       "    </tr>\n",
       "  </tbody>\n",
       "</table>\n",
       "</div>"
      ],
      "text/plain": [
       "              Type  Churn Gender  Count\n",
       "0     churn_Cancel      1      F     45\n",
       "1     churn_Cancel      0      F    153\n",
       "2     churn_Cancel      1      M     54\n",
       "3     churn_Cancel      0      M    196\n",
       "4  churn_Downgrade      1      F     46\n",
       "5  churn_Downgrade      0      F    152\n",
       "6  churn_Downgrade      1      M     51\n",
       "7  churn_Downgrade      0      M    199"
      ]
     },
     "execution_count": 32,
     "metadata": {},
     "output_type": "execute_result"
    }
   ],
   "source": [
    "churn"
   ]
  },
  {
   "cell_type": "code",
   "execution_count": 37,
   "metadata": {},
   "outputs": [],
   "source": [
    "total = churn.groupby(['Type', 'Gender'])['Count'].sum().reset_index()"
   ]
  },
  {
   "cell_type": "code",
   "execution_count": 38,
   "metadata": {},
   "outputs": [
    {
     "data": {
      "text/html": [
       "<div>\n",
       "<style scoped>\n",
       "    .dataframe tbody tr th:only-of-type {\n",
       "        vertical-align: middle;\n",
       "    }\n",
       "\n",
       "    .dataframe tbody tr th {\n",
       "        vertical-align: top;\n",
       "    }\n",
       "\n",
       "    .dataframe thead th {\n",
       "        text-align: right;\n",
       "    }\n",
       "</style>\n",
       "<table border=\"1\" class=\"dataframe\">\n",
       "  <thead>\n",
       "    <tr style=\"text-align: right;\">\n",
       "      <th></th>\n",
       "      <th>index</th>\n",
       "      <th>Type</th>\n",
       "      <th>Gender</th>\n",
       "      <th>Count</th>\n",
       "    </tr>\n",
       "  </thead>\n",
       "  <tbody>\n",
       "    <tr>\n",
       "      <th>0</th>\n",
       "      <td>0</td>\n",
       "      <td>churn_Cancel</td>\n",
       "      <td>F</td>\n",
       "      <td>198</td>\n",
       "    </tr>\n",
       "    <tr>\n",
       "      <th>1</th>\n",
       "      <td>1</td>\n",
       "      <td>churn_Cancel</td>\n",
       "      <td>M</td>\n",
       "      <td>250</td>\n",
       "    </tr>\n",
       "    <tr>\n",
       "      <th>2</th>\n",
       "      <td>2</td>\n",
       "      <td>churn_Downgrade</td>\n",
       "      <td>F</td>\n",
       "      <td>198</td>\n",
       "    </tr>\n",
       "    <tr>\n",
       "      <th>3</th>\n",
       "      <td>3</td>\n",
       "      <td>churn_Downgrade</td>\n",
       "      <td>M</td>\n",
       "      <td>250</td>\n",
       "    </tr>\n",
       "  </tbody>\n",
       "</table>\n",
       "</div>"
      ],
      "text/plain": [
       "   index             Type Gender  Count\n",
       "0      0     churn_Cancel      F    198\n",
       "1      1     churn_Cancel      M    250\n",
       "2      2  churn_Downgrade      F    198\n",
       "3      3  churn_Downgrade      M    250"
      ]
     },
     "execution_count": 38,
     "metadata": {},
     "output_type": "execute_result"
    }
   ],
   "source": [
    "total.reset_index()"
   ]
  },
  {
   "cell_type": "code",
   "execution_count": 39,
   "metadata": {},
   "outputs": [],
   "source": [
    "churn_total = churn.merge(total, on=['Type', 'Gender'])"
   ]
  },
  {
   "cell_type": "code",
   "execution_count": 41,
   "metadata": {},
   "outputs": [],
   "source": [
    "churn_total['Portion']=churn_total['Count_x']/churn_total['Count_y']*100"
   ]
  },
  {
   "cell_type": "code",
   "execution_count": 42,
   "metadata": {},
   "outputs": [
    {
     "data": {
      "text/html": [
       "<div>\n",
       "<style scoped>\n",
       "    .dataframe tbody tr th:only-of-type {\n",
       "        vertical-align: middle;\n",
       "    }\n",
       "\n",
       "    .dataframe tbody tr th {\n",
       "        vertical-align: top;\n",
       "    }\n",
       "\n",
       "    .dataframe thead th {\n",
       "        text-align: right;\n",
       "    }\n",
       "</style>\n",
       "<table border=\"1\" class=\"dataframe\">\n",
       "  <thead>\n",
       "    <tr style=\"text-align: right;\">\n",
       "      <th></th>\n",
       "      <th>Type</th>\n",
       "      <th>Churn</th>\n",
       "      <th>Gender</th>\n",
       "      <th>Count_x</th>\n",
       "      <th>Count_y</th>\n",
       "      <th>Portion</th>\n",
       "    </tr>\n",
       "  </thead>\n",
       "  <tbody>\n",
       "    <tr>\n",
       "      <th>0</th>\n",
       "      <td>churn_Cancel</td>\n",
       "      <td>1</td>\n",
       "      <td>F</td>\n",
       "      <td>45</td>\n",
       "      <td>198</td>\n",
       "      <td>22.727273</td>\n",
       "    </tr>\n",
       "    <tr>\n",
       "      <th>1</th>\n",
       "      <td>churn_Cancel</td>\n",
       "      <td>0</td>\n",
       "      <td>F</td>\n",
       "      <td>153</td>\n",
       "      <td>198</td>\n",
       "      <td>77.272727</td>\n",
       "    </tr>\n",
       "    <tr>\n",
       "      <th>2</th>\n",
       "      <td>churn_Cancel</td>\n",
       "      <td>1</td>\n",
       "      <td>M</td>\n",
       "      <td>54</td>\n",
       "      <td>250</td>\n",
       "      <td>21.600000</td>\n",
       "    </tr>\n",
       "    <tr>\n",
       "      <th>3</th>\n",
       "      <td>churn_Cancel</td>\n",
       "      <td>0</td>\n",
       "      <td>M</td>\n",
       "      <td>196</td>\n",
       "      <td>250</td>\n",
       "      <td>78.400000</td>\n",
       "    </tr>\n",
       "    <tr>\n",
       "      <th>4</th>\n",
       "      <td>churn_Downgrade</td>\n",
       "      <td>1</td>\n",
       "      <td>F</td>\n",
       "      <td>46</td>\n",
       "      <td>198</td>\n",
       "      <td>23.232323</td>\n",
       "    </tr>\n",
       "    <tr>\n",
       "      <th>5</th>\n",
       "      <td>churn_Downgrade</td>\n",
       "      <td>0</td>\n",
       "      <td>F</td>\n",
       "      <td>152</td>\n",
       "      <td>198</td>\n",
       "      <td>76.767677</td>\n",
       "    </tr>\n",
       "    <tr>\n",
       "      <th>6</th>\n",
       "      <td>churn_Downgrade</td>\n",
       "      <td>1</td>\n",
       "      <td>M</td>\n",
       "      <td>51</td>\n",
       "      <td>250</td>\n",
       "      <td>20.400000</td>\n",
       "    </tr>\n",
       "    <tr>\n",
       "      <th>7</th>\n",
       "      <td>churn_Downgrade</td>\n",
       "      <td>0</td>\n",
       "      <td>M</td>\n",
       "      <td>199</td>\n",
       "      <td>250</td>\n",
       "      <td>79.600000</td>\n",
       "    </tr>\n",
       "  </tbody>\n",
       "</table>\n",
       "</div>"
      ],
      "text/plain": [
       "              Type  Churn Gender  Count_x  Count_y    Portion\n",
       "0     churn_Cancel      1      F       45      198  22.727273\n",
       "1     churn_Cancel      0      F      153      198  77.272727\n",
       "2     churn_Cancel      1      M       54      250  21.600000\n",
       "3     churn_Cancel      0      M      196      250  78.400000\n",
       "4  churn_Downgrade      1      F       46      198  23.232323\n",
       "5  churn_Downgrade      0      F      152      198  76.767677\n",
       "6  churn_Downgrade      1      M       51      250  20.400000\n",
       "7  churn_Downgrade      0      M      199      250  79.600000"
      ]
     },
     "execution_count": 42,
     "metadata": {},
     "output_type": "execute_result"
    }
   ],
   "source": [
    "churn_total"
   ]
  },
  {
   "cell_type": "code",
   "execution_count": 57,
   "metadata": {},
   "outputs": [
    {
     "data": {
      "image/png": "[encoded data removed]",
      "text/plain": [
       "<Figure size 640x480 with 2 Axes>"
      ]
     },
     "metadata": {},
     "output_type": "display_data"
    },
    {
     "data": {
      "text/plain": [
       "<ggplot: (-9223371875396610823)>"
      ]
     },
     "execution_count": 57,
     "metadata": {},
     "output_type": "execute_result"
    }
   ],
   "source": [
    "(ggplot(churn_total, aes(x='Gender', y='Portion', fill='factor(Churn)'))\n",
    "+facet_wrap('~Type')\n",
    " +geom_col()\n",
    "+ylab('Portion (%)')\n",
    ")"
   ]
  },
  {
   "cell_type": "code",
   "execution_count": null,
   "metadata": {},
   "outputs": [],
   "source": [
    "+-----------------------+---+---+\n",
    "|churn_Cancel_status_404|  0|  1|\n",
    "+-----------------------+---+---+\n",
    "|                      1| 59| 40|\n",
    "|                      0|166|183|\n",
    "+-----------------------+---+---+\n",
    "+--------------------------+---+---+\n",
    "|churn_Downgrade_status_404|  0|  1|\n",
    "+--------------------------+---+---+\n",
    "|                         1| 27| 70|\n",
    "|                         0|198|153|\n",
    "+--------------------------+---+---+"
   ]
  },
  {
   "cell_type": "code",
   "execution_count": 58,
   "metadata": {},
   "outputs": [],
   "source": [
    "churn_status = pd.DataFrame({\n",
    "    'Type': ['churn_Cancel']*4 + ['churn_Downgrade']*4,\n",
    "    'Churn':[1, 0, 1, 0, 1, 0, 1, 0],\n",
    "    'Status_404': [0, 0, 1, 1]*2,\n",
    "    'Count': [59, 166, 40, 183, 27, 198, 70, 153]\n",
    "})"
   ]
  },
  {
   "cell_type": "code",
   "execution_count": 59,
   "metadata": {},
   "outputs": [
    {
     "data": {
      "text/html": [
       "<div>\n",
       "<style scoped>\n",
       "    .dataframe tbody tr th:only-of-type {\n",
       "        vertical-align: middle;\n",
       "    }\n",
       "\n",
       "    .dataframe tbody tr th {\n",
       "        vertical-align: top;\n",
       "    }\n",
       "\n",
       "    .dataframe thead th {\n",
       "        text-align: right;\n",
       "    }\n",
       "</style>\n",
       "<table border=\"1\" class=\"dataframe\">\n",
       "  <thead>\n",
       "    <tr style=\"text-align: right;\">\n",
       "      <th></th>\n",
       "      <th>Type</th>\n",
       "      <th>Churn</th>\n",
       "      <th>Status_404</th>\n",
       "      <th>Count</th>\n",
       "    </tr>\n",
       "  </thead>\n",
       "  <tbody>\n",
       "    <tr>\n",
       "      <th>0</th>\n",
       "      <td>churn_Cancel</td>\n",
       "      <td>1</td>\n",
       "      <td>0</td>\n",
       "      <td>59</td>\n",
       "    </tr>\n",
       "    <tr>\n",
       "      <th>1</th>\n",
       "      <td>churn_Cancel</td>\n",
       "      <td>0</td>\n",
       "      <td>0</td>\n",
       "      <td>166</td>\n",
       "    </tr>\n",
       "    <tr>\n",
       "      <th>2</th>\n",
       "      <td>churn_Cancel</td>\n",
       "      <td>1</td>\n",
       "      <td>1</td>\n",
       "      <td>40</td>\n",
       "    </tr>\n",
       "    <tr>\n",
       "      <th>3</th>\n",
       "      <td>churn_Cancel</td>\n",
       "      <td>0</td>\n",
       "      <td>1</td>\n",
       "      <td>183</td>\n",
       "    </tr>\n",
       "    <tr>\n",
       "      <th>4</th>\n",
       "      <td>churn_Downgrade</td>\n",
       "      <td>1</td>\n",
       "      <td>0</td>\n",
       "      <td>27</td>\n",
       "    </tr>\n",
       "    <tr>\n",
       "      <th>5</th>\n",
       "      <td>churn_Downgrade</td>\n",
       "      <td>0</td>\n",
       "      <td>0</td>\n",
       "      <td>198</td>\n",
       "    </tr>\n",
       "    <tr>\n",
       "      <th>6</th>\n",
       "      <td>churn_Downgrade</td>\n",
       "      <td>1</td>\n",
       "      <td>1</td>\n",
       "      <td>70</td>\n",
       "    </tr>\n",
       "    <tr>\n",
       "      <th>7</th>\n",
       "      <td>churn_Downgrade</td>\n",
       "      <td>0</td>\n",
       "      <td>1</td>\n",
       "      <td>153</td>\n",
       "    </tr>\n",
       "  </tbody>\n",
       "</table>\n",
       "</div>"
      ],
      "text/plain": [
       "              Type  Churn  Status_404  Count\n",
       "0     churn_Cancel      1           0     59\n",
       "1     churn_Cancel      0           0    166\n",
       "2     churn_Cancel      1           1     40\n",
       "3     churn_Cancel      0           1    183\n",
       "4  churn_Downgrade      1           0     27\n",
       "5  churn_Downgrade      0           0    198\n",
       "6  churn_Downgrade      1           1     70\n",
       "7  churn_Downgrade      0           1    153"
      ]
     },
     "execution_count": 59,
     "metadata": {},
     "output_type": "execute_result"
    }
   ],
   "source": [
    "churn_status"
   ]
  },
  {
   "cell_type": "code",
   "execution_count": 61,
   "metadata": {},
   "outputs": [],
   "source": [
    "total = churn_status.groupby(['Type', 'Status_404'])['Count'].sum().reset_index()"
   ]
  },
  {
   "cell_type": "code",
   "execution_count": 62,
   "metadata": {},
   "outputs": [],
   "source": [
    "churn_total_status = churn_status.merge(total, on=['Type', 'Status_404'])"
   ]
  },
  {
   "cell_type": "code",
   "execution_count": 63,
   "metadata": {},
   "outputs": [],
   "source": [
    "churn_total_status['Portion']=churn_total_status['Count_x']/churn_total_status['Count_y']*100"
   ]
  },
  {
   "cell_type": "code",
   "execution_count": 64,
   "metadata": {},
   "outputs": [
    {
     "data": {
      "image/png": "[encoded data removed]",
      "text/plain": [
       "<Figure size 640x480 with 2 Axes>"
      ]
     },
     "metadata": {},
     "output_type": "display_data"
    },
    {
     "data": {
      "text/plain": [
       "<ggplot: (-9223371875396610844)>"
      ]
     },
     "execution_count": 64,
     "metadata": {},
     "output_type": "execute_result"
    }
   ],
   "source": [
    "(ggplot(churn_total_status, aes(x='Status_404', y='Portion', fill='factor(Churn)'))\n",
    "+facet_wrap('~Type')\n",
    " +geom_col()\n",
    "+ylab('Portion (%)')\n",
    ")"
   ]
  },
  {
   "cell_type": "code",
   "execution_count": null,
   "metadata": {},
   "outputs": [],
   "source": [
    "+-------------------+---+-------+---+----+------+\n",
    "|churn_Cancel_device|Mac|Windows|X11|iPad|iPhone|\n",
    "+-------------------+---+-------+---+----+------+\n",
    "|                  1| 35|     48|  5|   0|    11|\n",
    "|                  0|138|    174| 21|   9|     7|\n",
    "+-------------------+---+-------+---+----+------+\n",
    "+----------------------+---+-------+---+----+------+\n",
    "|churn_Downgrade_device|Mac|Windows|X11|iPad|iPhone|\n",
    "+----------------------+---+-------+---+----+------+\n",
    "|                     1| 37|     45|  7|   2|     6|\n",
    "|                     0|136|    177| 19|   7|    12|\n",
    "+----------------------+---+-------+---+----+------+"
   ]
  },
  {
   "cell_type": "code",
   "execution_count": 71,
   "metadata": {},
   "outputs": [],
   "source": [
    "churn = pd.DataFrame({\n",
    "    'Type': ['churn_Cancel']*10 + ['churn_Downgrade']*10,\n",
    "    'Churn':[1, 0]*10,\n",
    "    'Device': ['Mac', 'Mac', 'Windows', 'Windows', 'X11', 'X11', 'iPad', 'iPad', 'iPhone', 'iPhone']*2,\n",
    "    'Count': [35, 138, 48, 174, 5, 21, 0, 9, 11, 7, 37, 136, 45, 177, 7, 19, 2, 7, 6, 12]\n",
    "})"
   ]
  },
  {
   "cell_type": "code",
   "execution_count": 72,
   "metadata": {},
   "outputs": [
    {
     "data": {
      "text/html": [
       "<div>\n",
       "<style scoped>\n",
       "    .dataframe tbody tr th:only-of-type {\n",
       "        vertical-align: middle;\n",
       "    }\n",
       "\n",
       "    .dataframe tbody tr th {\n",
       "        vertical-align: top;\n",
       "    }\n",
       "\n",
       "    .dataframe thead th {\n",
       "        text-align: right;\n",
       "    }\n",
       "</style>\n",
       "<table border=\"1\" class=\"dataframe\">\n",
       "  <thead>\n",
       "    <tr style=\"text-align: right;\">\n",
       "      <th></th>\n",
       "      <th>Type</th>\n",
       "      <th>Churn</th>\n",
       "      <th>Device</th>\n",
       "      <th>Count</th>\n",
       "    </tr>\n",
       "  </thead>\n",
       "  <tbody>\n",
       "    <tr>\n",
       "      <th>0</th>\n",
       "      <td>churn_Cancel</td>\n",
       "      <td>1</td>\n",
       "      <td>Mac</td>\n",
       "      <td>35</td>\n",
       "    </tr>\n",
       "    <tr>\n",
       "      <th>1</th>\n",
       "      <td>churn_Cancel</td>\n",
       "      <td>0</td>\n",
       "      <td>Mac</td>\n",
       "      <td>138</td>\n",
       "    </tr>\n",
       "    <tr>\n",
       "      <th>2</th>\n",
       "      <td>churn_Cancel</td>\n",
       "      <td>1</td>\n",
       "      <td>Windows</td>\n",
       "      <td>48</td>\n",
       "    </tr>\n",
       "    <tr>\n",
       "      <th>3</th>\n",
       "      <td>churn_Cancel</td>\n",
       "      <td>0</td>\n",
       "      <td>Windows</td>\n",
       "      <td>174</td>\n",
       "    </tr>\n",
       "    <tr>\n",
       "      <th>4</th>\n",
       "      <td>churn_Cancel</td>\n",
       "      <td>1</td>\n",
       "      <td>X11</td>\n",
       "      <td>5</td>\n",
       "    </tr>\n",
       "    <tr>\n",
       "      <th>5</th>\n",
       "      <td>churn_Cancel</td>\n",
       "      <td>0</td>\n",
       "      <td>X11</td>\n",
       "      <td>21</td>\n",
       "    </tr>\n",
       "    <tr>\n",
       "      <th>6</th>\n",
       "      <td>churn_Cancel</td>\n",
       "      <td>1</td>\n",
       "      <td>iPad</td>\n",
       "      <td>0</td>\n",
       "    </tr>\n",
       "    <tr>\n",
       "      <th>7</th>\n",
       "      <td>churn_Cancel</td>\n",
       "      <td>0</td>\n",
       "      <td>iPad</td>\n",
       "      <td>9</td>\n",
       "    </tr>\n",
       "    <tr>\n",
       "      <th>8</th>\n",
       "      <td>churn_Cancel</td>\n",
       "      <td>1</td>\n",
       "      <td>iPhone</td>\n",
       "      <td>11</td>\n",
       "    </tr>\n",
       "    <tr>\n",
       "      <th>9</th>\n",
       "      <td>churn_Cancel</td>\n",
       "      <td>0</td>\n",
       "      <td>iPhone</td>\n",
       "      <td>7</td>\n",
       "    </tr>\n",
       "    <tr>\n",
       "      <th>10</th>\n",
       "      <td>churn_Downgrade</td>\n",
       "      <td>1</td>\n",
       "      <td>Mac</td>\n",
       "      <td>37</td>\n",
       "    </tr>\n",
       "    <tr>\n",
       "      <th>11</th>\n",
       "      <td>churn_Downgrade</td>\n",
       "      <td>0</td>\n",
       "      <td>Mac</td>\n",
       "      <td>136</td>\n",
       "    </tr>\n",
       "    <tr>\n",
       "      <th>12</th>\n",
       "      <td>churn_Downgrade</td>\n",
       "      <td>1</td>\n",
       "      <td>Windows</td>\n",
       "      <td>45</td>\n",
       "    </tr>\n",
       "    <tr>\n",
       "      <th>13</th>\n",
       "      <td>churn_Downgrade</td>\n",
       "      <td>0</td>\n",
       "      <td>Windows</td>\n",
       "      <td>177</td>\n",
       "    </tr>\n",
       "    <tr>\n",
       "      <th>14</th>\n",
       "      <td>churn_Downgrade</td>\n",
       "      <td>1</td>\n",
       "      <td>X11</td>\n",
       "      <td>7</td>\n",
       "    </tr>\n",
       "    <tr>\n",
       "      <th>15</th>\n",
       "      <td>churn_Downgrade</td>\n",
       "      <td>0</td>\n",
       "      <td>X11</td>\n",
       "      <td>19</td>\n",
       "    </tr>\n",
       "    <tr>\n",
       "      <th>16</th>\n",
       "      <td>churn_Downgrade</td>\n",
       "      <td>1</td>\n",
       "      <td>iPad</td>\n",
       "      <td>2</td>\n",
       "    </tr>\n",
       "    <tr>\n",
       "      <th>17</th>\n",
       "      <td>churn_Downgrade</td>\n",
       "      <td>0</td>\n",
       "      <td>iPad</td>\n",
       "      <td>7</td>\n",
       "    </tr>\n",
       "    <tr>\n",
       "      <th>18</th>\n",
       "      <td>churn_Downgrade</td>\n",
       "      <td>1</td>\n",
       "      <td>iPhone</td>\n",
       "      <td>6</td>\n",
       "    </tr>\n",
       "    <tr>\n",
       "      <th>19</th>\n",
       "      <td>churn_Downgrade</td>\n",
       "      <td>0</td>\n",
       "      <td>iPhone</td>\n",
       "      <td>12</td>\n",
       "    </tr>\n",
       "  </tbody>\n",
       "</table>\n",
       "</div>"
      ],
      "text/plain": [
       "               Type  Churn   Device  Count\n",
       "0      churn_Cancel      1      Mac     35\n",
       "1      churn_Cancel      0      Mac    138\n",
       "2      churn_Cancel      1  Windows     48\n",
       "3      churn_Cancel      0  Windows    174\n",
       "4      churn_Cancel      1      X11      5\n",
       "5      churn_Cancel      0      X11     21\n",
       "6      churn_Cancel      1     iPad      0\n",
       "7      churn_Cancel      0     iPad      9\n",
       "8      churn_Cancel      1   iPhone     11\n",
       "9      churn_Cancel      0   iPhone      7\n",
       "10  churn_Downgrade      1      Mac     37\n",
       "11  churn_Downgrade      0      Mac    136\n",
       "12  churn_Downgrade      1  Windows     45\n",
       "13  churn_Downgrade      0  Windows    177\n",
       "14  churn_Downgrade      1      X11      7\n",
       "15  churn_Downgrade      0      X11     19\n",
       "16  churn_Downgrade      1     iPad      2\n",
       "17  churn_Downgrade      0     iPad      7\n",
       "18  churn_Downgrade      1   iPhone      6\n",
       "19  churn_Downgrade      0   iPhone     12"
      ]
     },
     "execution_count": 72,
     "metadata": {},
     "output_type": "execute_result"
    }
   ],
   "source": [
    "churn"
   ]
  },
  {
   "cell_type": "code",
   "execution_count": 74,
   "metadata": {},
   "outputs": [],
   "source": [
    "total = churn.groupby(['Type', 'Device'])['Count'].sum().reset_index()"
   ]
  },
  {
   "cell_type": "code",
   "execution_count": 75,
   "metadata": {},
   "outputs": [
    {
     "data": {
      "text/html": [
       "<div>\n",
       "<style scoped>\n",
       "    .dataframe tbody tr th:only-of-type {\n",
       "        vertical-align: middle;\n",
       "    }\n",
       "\n",
       "    .dataframe tbody tr th {\n",
       "        vertical-align: top;\n",
       "    }\n",
       "\n",
       "    .dataframe thead th {\n",
       "        text-align: right;\n",
       "    }\n",
       "</style>\n",
       "<table border=\"1\" class=\"dataframe\">\n",
       "  <thead>\n",
       "    <tr style=\"text-align: right;\">\n",
       "      <th></th>\n",
       "      <th>Type</th>\n",
       "      <th>Device</th>\n",
       "      <th>Count</th>\n",
       "    </tr>\n",
       "  </thead>\n",
       "  <tbody>\n",
       "    <tr>\n",
       "      <th>0</th>\n",
       "      <td>churn_Cancel</td>\n",
       "      <td>Mac</td>\n",
       "      <td>173</td>\n",
       "    </tr>\n",
       "    <tr>\n",
       "      <th>1</th>\n",
       "      <td>churn_Cancel</td>\n",
       "      <td>Windows</td>\n",
       "      <td>222</td>\n",
       "    </tr>\n",
       "    <tr>\n",
       "      <th>2</th>\n",
       "      <td>churn_Cancel</td>\n",
       "      <td>X11</td>\n",
       "      <td>26</td>\n",
       "    </tr>\n",
       "    <tr>\n",
       "      <th>3</th>\n",
       "      <td>churn_Cancel</td>\n",
       "      <td>iPad</td>\n",
       "      <td>9</td>\n",
       "    </tr>\n",
       "    <tr>\n",
       "      <th>4</th>\n",
       "      <td>churn_Cancel</td>\n",
       "      <td>iPhone</td>\n",
       "      <td>18</td>\n",
       "    </tr>\n",
       "    <tr>\n",
       "      <th>5</th>\n",
       "      <td>churn_Downgrade</td>\n",
       "      <td>Mac</td>\n",
       "      <td>173</td>\n",
       "    </tr>\n",
       "    <tr>\n",
       "      <th>6</th>\n",
       "      <td>churn_Downgrade</td>\n",
       "      <td>Windows</td>\n",
       "      <td>222</td>\n",
       "    </tr>\n",
       "    <tr>\n",
       "      <th>7</th>\n",
       "      <td>churn_Downgrade</td>\n",
       "      <td>X11</td>\n",
       "      <td>26</td>\n",
       "    </tr>\n",
       "    <tr>\n",
       "      <th>8</th>\n",
       "      <td>churn_Downgrade</td>\n",
       "      <td>iPad</td>\n",
       "      <td>9</td>\n",
       "    </tr>\n",
       "    <tr>\n",
       "      <th>9</th>\n",
       "      <td>churn_Downgrade</td>\n",
       "      <td>iPhone</td>\n",
       "      <td>18</td>\n",
       "    </tr>\n",
       "  </tbody>\n",
       "</table>\n",
       "</div>"
      ],
      "text/plain": [
       "              Type   Device  Count\n",
       "0     churn_Cancel      Mac    173\n",
       "1     churn_Cancel  Windows    222\n",
       "2     churn_Cancel      X11     26\n",
       "3     churn_Cancel     iPad      9\n",
       "4     churn_Cancel   iPhone     18\n",
       "5  churn_Downgrade      Mac    173\n",
       "6  churn_Downgrade  Windows    222\n",
       "7  churn_Downgrade      X11     26\n",
       "8  churn_Downgrade     iPad      9\n",
       "9  churn_Downgrade   iPhone     18"
      ]
     },
     "execution_count": 75,
     "metadata": {},
     "output_type": "execute_result"
    }
   ],
   "source": [
    "total"
   ]
  },
  {
   "cell_type": "code",
   "execution_count": 77,
   "metadata": {},
   "outputs": [],
   "source": [
    "churn_total = churn.merge(total, on=['Type', 'Device'])"
   ]
  },
  {
   "cell_type": "code",
   "execution_count": 79,
   "metadata": {},
   "outputs": [],
   "source": [
    "churn_total['Portion']=churn_total['Count_x']/churn_total['Count_y']*100"
   ]
  },
  {
   "cell_type": "code",
   "execution_count": 80,
   "metadata": {},
   "outputs": [
    {
     "data": {
      "text/html": [
       "<div>\n",
       "<style scoped>\n",
       "    .dataframe tbody tr th:only-of-type {\n",
       "        vertical-align: middle;\n",
       "    }\n",
       "\n",
       "    .dataframe tbody tr th {\n",
       "        vertical-align: top;\n",
       "    }\n",
       "\n",
       "    .dataframe thead th {\n",
       "        text-align: right;\n",
       "    }\n",
       "</style>\n",
       "<table border=\"1\" class=\"dataframe\">\n",
       "  <thead>\n",
       "    <tr style=\"text-align: right;\">\n",
       "      <th></th>\n",
       "      <th>Type</th>\n",
       "      <th>Churn</th>\n",
       "      <th>Device</th>\n",
       "      <th>Count_x</th>\n",
       "      <th>Count_y</th>\n",
       "      <th>Portion</th>\n",
       "    </tr>\n",
       "  </thead>\n",
       "  <tbody>\n",
       "    <tr>\n",
       "      <th>0</th>\n",
       "      <td>churn_Cancel</td>\n",
       "      <td>1</td>\n",
       "      <td>Mac</td>\n",
       "      <td>35</td>\n",
       "      <td>173</td>\n",
       "      <td>20.231214</td>\n",
       "    </tr>\n",
       "    <tr>\n",
       "      <th>1</th>\n",
       "      <td>churn_Cancel</td>\n",
       "      <td>0</td>\n",
       "      <td>Mac</td>\n",
       "      <td>138</td>\n",
       "      <td>173</td>\n",
       "      <td>79.768786</td>\n",
       "    </tr>\n",
       "    <tr>\n",
       "      <th>2</th>\n",
       "      <td>churn_Cancel</td>\n",
       "      <td>1</td>\n",
       "      <td>Windows</td>\n",
       "      <td>48</td>\n",
       "      <td>222</td>\n",
       "      <td>21.621622</td>\n",
       "    </tr>\n",
       "    <tr>\n",
       "      <th>3</th>\n",
       "      <td>churn_Cancel</td>\n",
       "      <td>0</td>\n",
       "      <td>Windows</td>\n",
       "      <td>174</td>\n",
       "      <td>222</td>\n",
       "      <td>78.378378</td>\n",
       "    </tr>\n",
       "    <tr>\n",
       "      <th>4</th>\n",
       "      <td>churn_Cancel</td>\n",
       "      <td>1</td>\n",
       "      <td>X11</td>\n",
       "      <td>5</td>\n",
       "      <td>26</td>\n",
       "      <td>19.230769</td>\n",
       "    </tr>\n",
       "    <tr>\n",
       "      <th>5</th>\n",
       "      <td>churn_Cancel</td>\n",
       "      <td>0</td>\n",
       "      <td>X11</td>\n",
       "      <td>21</td>\n",
       "      <td>26</td>\n",
       "      <td>80.769231</td>\n",
       "    </tr>\n",
       "    <tr>\n",
       "      <th>6</th>\n",
       "      <td>churn_Cancel</td>\n",
       "      <td>1</td>\n",
       "      <td>iPad</td>\n",
       "      <td>0</td>\n",
       "      <td>9</td>\n",
       "      <td>0.000000</td>\n",
       "    </tr>\n",
       "    <tr>\n",
       "      <th>7</th>\n",
       "      <td>churn_Cancel</td>\n",
       "      <td>0</td>\n",
       "      <td>iPad</td>\n",
       "      <td>9</td>\n",
       "      <td>9</td>\n",
       "      <td>100.000000</td>\n",
       "    </tr>\n",
       "    <tr>\n",
       "      <th>8</th>\n",
       "      <td>churn_Cancel</td>\n",
       "      <td>1</td>\n",
       "      <td>iPhone</td>\n",
       "      <td>11</td>\n",
       "      <td>18</td>\n",
       "      <td>61.111111</td>\n",
       "    </tr>\n",
       "    <tr>\n",
       "      <th>9</th>\n",
       "      <td>churn_Cancel</td>\n",
       "      <td>0</td>\n",
       "      <td>iPhone</td>\n",
       "      <td>7</td>\n",
       "      <td>18</td>\n",
       "      <td>38.888889</td>\n",
       "    </tr>\n",
       "    <tr>\n",
       "      <th>10</th>\n",
       "      <td>churn_Downgrade</td>\n",
       "      <td>1</td>\n",
       "      <td>Mac</td>\n",
       "      <td>37</td>\n",
       "      <td>173</td>\n",
       "      <td>21.387283</td>\n",
       "    </tr>\n",
       "    <tr>\n",
       "      <th>11</th>\n",
       "      <td>churn_Downgrade</td>\n",
       "      <td>0</td>\n",
       "      <td>Mac</td>\n",
       "      <td>136</td>\n",
       "      <td>173</td>\n",
       "      <td>78.612717</td>\n",
       "    </tr>\n",
       "    <tr>\n",
       "      <th>12</th>\n",
       "      <td>churn_Downgrade</td>\n",
       "      <td>1</td>\n",
       "      <td>Windows</td>\n",
       "      <td>45</td>\n",
       "      <td>222</td>\n",
       "      <td>20.270270</td>\n",
       "    </tr>\n",
       "    <tr>\n",
       "      <th>13</th>\n",
       "      <td>churn_Downgrade</td>\n",
       "      <td>0</td>\n",
       "      <td>Windows</td>\n",
       "      <td>177</td>\n",
       "      <td>222</td>\n",
       "      <td>79.729730</td>\n",
       "    </tr>\n",
       "    <tr>\n",
       "      <th>14</th>\n",
       "      <td>churn_Downgrade</td>\n",
       "      <td>1</td>\n",
       "      <td>X11</td>\n",
       "      <td>7</td>\n",
       "      <td>26</td>\n",
       "      <td>26.923077</td>\n",
       "    </tr>\n",
       "    <tr>\n",
       "      <th>15</th>\n",
       "      <td>churn_Downgrade</td>\n",
       "      <td>0</td>\n",
       "      <td>X11</td>\n",
       "      <td>19</td>\n",
       "      <td>26</td>\n",
       "      <td>73.076923</td>\n",
       "    </tr>\n",
       "    <tr>\n",
       "      <th>16</th>\n",
       "      <td>churn_Downgrade</td>\n",
       "      <td>1</td>\n",
       "      <td>iPad</td>\n",
       "      <td>2</td>\n",
       "      <td>9</td>\n",
       "      <td>22.222222</td>\n",
       "    </tr>\n",
       "    <tr>\n",
       "      <th>17</th>\n",
       "      <td>churn_Downgrade</td>\n",
       "      <td>0</td>\n",
       "      <td>iPad</td>\n",
       "      <td>7</td>\n",
       "      <td>9</td>\n",
       "      <td>77.777778</td>\n",
       "    </tr>\n",
       "    <tr>\n",
       "      <th>18</th>\n",
       "      <td>churn_Downgrade</td>\n",
       "      <td>1</td>\n",
       "      <td>iPhone</td>\n",
       "      <td>6</td>\n",
       "      <td>18</td>\n",
       "      <td>33.333333</td>\n",
       "    </tr>\n",
       "    <tr>\n",
       "      <th>19</th>\n",
       "      <td>churn_Downgrade</td>\n",
       "      <td>0</td>\n",
       "      <td>iPhone</td>\n",
       "      <td>12</td>\n",
       "      <td>18</td>\n",
       "      <td>66.666667</td>\n",
       "    </tr>\n",
       "  </tbody>\n",
       "</table>\n",
       "</div>"
      ],
      "text/plain": [
       "               Type  Churn   Device  Count_x  Count_y     Portion\n",
       "0      churn_Cancel      1      Mac       35      173   20.231214\n",
       "1      churn_Cancel      0      Mac      138      173   79.768786\n",
       "2      churn_Cancel      1  Windows       48      222   21.621622\n",
       "3      churn_Cancel      0  Windows      174      222   78.378378\n",
       "4      churn_Cancel      1      X11        5       26   19.230769\n",
       "5      churn_Cancel      0      X11       21       26   80.769231\n",
       "6      churn_Cancel      1     iPad        0        9    0.000000\n",
       "7      churn_Cancel      0     iPad        9        9  100.000000\n",
       "8      churn_Cancel      1   iPhone       11       18   61.111111\n",
       "9      churn_Cancel      0   iPhone        7       18   38.888889\n",
       "10  churn_Downgrade      1      Mac       37      173   21.387283\n",
       "11  churn_Downgrade      0      Mac      136      173   78.612717\n",
       "12  churn_Downgrade      1  Windows       45      222   20.270270\n",
       "13  churn_Downgrade      0  Windows      177      222   79.729730\n",
       "14  churn_Downgrade      1      X11        7       26   26.923077\n",
       "15  churn_Downgrade      0      X11       19       26   73.076923\n",
       "16  churn_Downgrade      1     iPad        2        9   22.222222\n",
       "17  churn_Downgrade      0     iPad        7        9   77.777778\n",
       "18  churn_Downgrade      1   iPhone        6       18   33.333333\n",
       "19  churn_Downgrade      0   iPhone       12       18   66.666667"
      ]
     },
     "execution_count": 80,
     "metadata": {},
     "output_type": "execute_result"
    }
   ],
   "source": [
    "churn_total"
   ]
  },
  {
   "cell_type": "code",
   "execution_count": 81,
   "metadata": {},
   "outputs": [
    {
     "data": {
      "image/png": "[encoded data removed]",
      "text/plain": [
       "<Figure size 640x480 with 2 Axes>"
      ]
     },
     "metadata": {},
     "output_type": "display_data"
    },
    {
     "data": {
      "text/plain": [
       "<ggplot: (161457852231)>"
      ]
     },
     "execution_count": 81,
     "metadata": {},
     "output_type": "execute_result"
    }
   ],
   "source": [
    "(ggplot(churn_total, aes(x='Device', y='Portion', fill='factor(Churn)'))\n",
    "+facet_wrap('~Type')\n",
    " +geom_col()\n",
    "+ylab('Portion (%)')\n",
    ")"
   ]
  },
  {
   "cell_type": "code",
   "execution_count": 2,
   "metadata": {},
   "outputs": [],
   "source": [
    "import pyspark"
   ]
  },
  {
   "cell_type": "code",
   "execution_count": 3,
   "metadata": {},
   "outputs": [],
   "source": [
    "spark = pyspark.sql.SparkSession \\\n",
    "        .builder \\\n",
    "        .master('local[*]') \\\n",
    "        .appName('Sparkify') \\\n",
    "        .getOrCreate()"
   ]
  },
  {
   "cell_type": "code",
   "execution_count": 9,
   "metadata": {},
   "outputs": [
    {
     "ename": "SyntaxError",
     "evalue": "keyword can't be an expression (<ipython-input-9-67bdc8dc7d31>, line 1)",
     "output_type": "error",
     "traceback": [
      "\u001b[1;36m  File \u001b[1;32m\"<ipython-input-9-67bdc8dc7d31>\"\u001b[1;36m, line \u001b[1;32m1\u001b[0m\n\u001b[1;33m    df = spark.createDataFrame([Row('churn_Cancel'=1, 'avg(thumb_up_ratio)'=0.039791181423047786, 'avg(add_friend_ratio)'=0.014471172925169683, 'avg(roll_advert_ratio)'=0.040880366689801446, 'avg(add_palylist_ratio)'=0.02081255591524812, 'avg(thumb_down_ratio)'=0.01083540837399207, 'avg(submit_upgrade_ratio)'=0.0011168263550515546, 'avg(session_len_avg)'=17451.207411462936, 'avg(time)'=67.96801989805464, 'avg(session_len_std)'=14958.45668260582, 'avg(error_ratio)'=0.0006449270849316139),\u001b[0m\n\u001b[1;37m                                   ^\u001b[0m\n\u001b[1;31mSyntaxError\u001b[0m\u001b[1;31m:\u001b[0m keyword can't be an expression\n"
     ]
    }
   ],
   "source": [
    "df = spark.createDataFrame([Row('churn_Cancel'=1, 'avg(thumb_up_ratio)'=0.039791181423047786, 'avg(add_friend_ratio)'=0.014471172925169683, 'avg(roll_advert_ratio)'=0.040880366689801446, 'avg(add_palylist_ratio)'=0.02081255591524812, 'avg(thumb_down_ratio)'=0.01083540837399207, 'avg(submit_upgrade_ratio)'=0.0011168263550515546, 'avg(session_len_avg)'=17451.207411462936, 'avg(time)'=67.96801989805464, 'avg(session_len_std)'=14958.45668260582, 'avg(error_ratio)'=0.0006449270849316139),\n",
    " Row('churn_Cancel'=0, 'avg(thumb_up_ratio)'=0.04330325117489644, 'avg(add_friend_ratio)'=0.015738068017301533, 'avg(roll_advert_ratio)'=0.02831708302508494, 'avg(add_palylist_ratio)'=0.022584436585174603, 'avg(thumb_down_ratio)'=0.009424074927279416, 'avg(submit_upgrade_ratio)'=0.0006893236837217985, 'avg(session_len_avg)'=15674.76971806671, 'avg(time)'=87.04871421654465, 'avg(session_len_std)'=15757.455012439019, 'avg(error_ratio)'=0.0010410283429297621)])"
   ]
  },
  {
   "cell_type": "code",
   "execution_count": 8,
   "metadata": {},
   "outputs": [],
   "source": [
    "from pyspark.sql import Row"
   ]
  },
  {
   "cell_type": "code",
   "execution_count": 10,
   "metadata": {},
   "outputs": [
    {
     "name": "stdout",
     "output_type": "stream",
     "text": [
      "Help on class Row in module pyspark.sql.types:\n",
      "\n",
      "class Row(builtins.tuple)\n",
      " |  Row(*args, **kwargs)\n",
      " |  \n",
      " |  A row in L{DataFrame}.\n",
      " |  The fields in it can be accessed:\n",
      " |  \n",
      " |  * like attributes (``row.key``)\n",
      " |  * like dictionary values (``row[key]``)\n",
      " |  \n",
      " |  ``key in row`` will search through row keys.\n",
      " |  \n",
      " |  Row can be used to create a row object by using named arguments,\n",
      " |  the fields will be sorted by names. It is not allowed to omit\n",
      " |  a named argument to represent the value is None or missing. This should be\n",
      " |  explicitly set to None in this case.\n",
      " |  \n",
      " |  >>> row = Row(name=\"Alice\", age=11)\n",
      " |  >>> row\n",
      " |  Row(age=11, name='Alice')\n",
      " |  >>> row['name'], row['age']\n",
      " |  ('Alice', 11)\n",
      " |  >>> row.name, row.age\n",
      " |  ('Alice', 11)\n",
      " |  >>> 'name' in row\n",
      " |  True\n",
      " |  >>> 'wrong_key' in row\n",
      " |  False\n",
      " |  \n",
      " |  Row also can be used to create another Row like class, then it\n",
      " |  could be used to create Row objects, such as\n",
      " |  \n",
      " |  >>> Person = Row(\"name\", \"age\")\n",
      " |  >>> Person\n",
      " |  <Row(name, age)>\n",
      " |  >>> 'name' in Person\n",
      " |  True\n",
      " |  >>> 'wrong_key' in Person\n",
      " |  False\n",
      " |  >>> Person(\"Alice\", 11)\n",
      " |  Row(name='Alice', age=11)\n",
      " |  \n",
      " |  Method resolution order:\n",
      " |      Row\n",
      " |      builtins.tuple\n",
      " |      builtins.object\n",
      " |  \n",
      " |  Methods defined here:\n",
      " |  \n",
      " |  __call__(self, *args)\n",
      " |      create new Row object\n",
      " |  \n",
      " |  __contains__(self, item)\n",
      " |      Return key in self.\n",
      " |  \n",
      " |  __getattr__(self, item)\n",
      " |  \n",
      " |  __getitem__(self, item)\n",
      " |      Return self[key].\n",
      " |  \n",
      " |  __reduce__(self)\n",
      " |      Returns a tuple so Python knows how to pickle Row.\n",
      " |  \n",
      " |  __repr__(self)\n",
      " |      Printable representation of Row used in Python REPL.\n",
      " |  \n",
      " |  __setattr__(self, key, value)\n",
      " |      Implement setattr(self, name, value).\n",
      " |  \n",
      " |  asDict(self, recursive=False)\n",
      " |      Return as an dict\n",
      " |      \n",
      " |      :param recursive: turns the nested Row as dict (default: False).\n",
      " |      \n",
      " |      >>> Row(name=\"Alice\", age=11).asDict() == {'name': 'Alice', 'age': 11}\n",
      " |      True\n",
      " |      >>> row = Row(key=1, value=Row(name='a', age=2))\n",
      " |      >>> row.asDict() == {'key': 1, 'value': Row(age=2, name='a')}\n",
      " |      True\n",
      " |      >>> row.asDict(True) == {'key': 1, 'value': {'name': 'a', 'age': 2}}\n",
      " |      True\n",
      " |  \n",
      " |  ----------------------------------------------------------------------\n",
      " |  Static methods defined here:\n",
      " |  \n",
      " |  __new__(self, *args, **kwargs)\n",
      " |      Create and return a new object.  See help(type) for accurate signature.\n",
      " |  \n",
      " |  ----------------------------------------------------------------------\n",
      " |  Data descriptors defined here:\n",
      " |  \n",
      " |  __dict__\n",
      " |      dictionary for instance variables (if defined)\n",
      " |  \n",
      " |  ----------------------------------------------------------------------\n",
      " |  Methods inherited from builtins.tuple:\n",
      " |  \n",
      " |  __add__(self, value, /)\n",
      " |      Return self+value.\n",
      " |  \n",
      " |  __eq__(self, value, /)\n",
      " |      Return self==value.\n",
      " |  \n",
      " |  __ge__(self, value, /)\n",
      " |      Return self>=value.\n",
      " |  \n",
      " |  __getattribute__(self, name, /)\n",
      " |      Return getattr(self, name).\n",
      " |  \n",
      " |  __getnewargs__(self, /)\n",
      " |  \n",
      " |  __gt__(self, value, /)\n",
      " |      Return self>value.\n",
      " |  \n",
      " |  __hash__(self, /)\n",
      " |      Return hash(self).\n",
      " |  \n",
      " |  __iter__(self, /)\n",
      " |      Implement iter(self).\n",
      " |  \n",
      " |  __le__(self, value, /)\n",
      " |      Return self<=value.\n",
      " |  \n",
      " |  __len__(self, /)\n",
      " |      Return len(self).\n",
      " |  \n",
      " |  __lt__(self, value, /)\n",
      " |      Return self<value.\n",
      " |  \n",
      " |  __mul__(self, value, /)\n",
      " |      Return self*value.\n",
      " |  \n",
      " |  __ne__(self, value, /)\n",
      " |      Return self!=value.\n",
      " |  \n",
      " |  __rmul__(self, value, /)\n",
      " |      Return value*self.\n",
      " |  \n",
      " |  count(self, value, /)\n",
      " |      Return number of occurrences of value.\n",
      " |  \n",
      " |  index(self, value, start=0, stop=9223372036854775807, /)\n",
      " |      Return first index of value.\n",
      " |      \n",
      " |      Raises ValueError if the value is not present.\n",
      "\n"
     ]
    }
   ],
   "source": [
    "help(Row)"
   ]
  },
  {
   "cell_type": "code",
   "execution_count": 18,
   "metadata": {},
   "outputs": [],
   "source": [
    "df = spark.createDataFrame([Row(churn_Cancel=1, thumb_up_ratio=0.039791181423047786, add_friend_ratio=0.014471172925169683, roll_advert_ratio=0.040880366689801446, add_palylist_ratio=0.02081255591524812, thumb_down_ratio=0.01083540837399207, submit_upgrade_ratio=0.0011168263550515546, session_len_avg=17451.207411462936, time=67.96801989805464, session_len_std=14958.45668260582, error_ratio=0.0006449270849316139),\n",
    " Row(churn_Cancel=0, thumb_up_ratio=0.04330325117489644, add_friend_ratio=0.015738068017301533, roll_advert_ratio=0.02831708302508494, add_palylist_ratio=0.022584436585174603, thumb_down_ratio=0.009424074927279416, submit_upgrade_ratio=0.0006893236837217985, session_len_avg=15674.76971806671, time=87.04871421654465, session_len_std=15757.455012439019, error_ratio=0.0010410283429297621)])"
   ]
  },
  {
   "cell_type": "code",
   "execution_count": 19,
   "metadata": {},
   "outputs": [
    {
     "name": "stdout",
     "output_type": "stream",
     "text": [
      "+--------------------+--------------------+------------+--------------------+--------------------+------------------+------------------+--------------------+--------------------+--------------------+-----------------+\n",
      "|    add_friend_ratio|  add_palylist_ratio|churn_Cancel|         error_ratio|   roll_advert_ratio|   session_len_avg|   session_len_std|submit_upgrade_ratio|    thumb_down_ratio|      thumb_up_ratio|             time|\n",
      "+--------------------+--------------------+------------+--------------------+--------------------+------------------+------------------+--------------------+--------------------+--------------------+-----------------+\n",
      "|0.014471172925169683| 0.02081255591524812|           1|6.449270849316139E-4|0.040880366689801446|17451.207411462936| 14958.45668260582|0.001116826355051...| 0.01083540837399207|0.039791181423047786|67.96801989805464|\n",
      "|0.015738068017301533|0.022584436585174603|           0|0.001041028342929...| 0.02831708302508494| 15674.76971806671|15757.455012439019|6.893236837217985E-4|0.009424074927279416| 0.04330325117489644|87.04871421654465|\n",
      "+--------------------+--------------------+------------+--------------------+--------------------+------------------+------------------+--------------------+--------------------+--------------------+-----------------+\n",
      "\n"
     ]
    }
   ],
   "source": [
    "df.show()"
   ]
  },
  {
   "cell_type": "code",
   "execution_count": 20,
   "metadata": {},
   "outputs": [],
   "source": [
    "df = df.toPandas()"
   ]
  },
  {
   "cell_type": "code",
   "execution_count": 21,
   "metadata": {},
   "outputs": [
    {
     "data": {
      "text/html": [
       "<div>\n",
       "<style scoped>\n",
       "    .dataframe tbody tr th:only-of-type {\n",
       "        vertical-align: middle;\n",
       "    }\n",
       "\n",
       "    .dataframe tbody tr th {\n",
       "        vertical-align: top;\n",
       "    }\n",
       "\n",
       "    .dataframe thead th {\n",
       "        text-align: right;\n",
       "    }\n",
       "</style>\n",
       "<table border=\"1\" class=\"dataframe\">\n",
       "  <thead>\n",
       "    <tr style=\"text-align: right;\">\n",
       "      <th></th>\n",
       "      <th>add_friend_ratio</th>\n",
       "      <th>add_palylist_ratio</th>\n",
       "      <th>churn_Cancel</th>\n",
       "      <th>error_ratio</th>\n",
       "      <th>roll_advert_ratio</th>\n",
       "      <th>session_len_avg</th>\n",
       "      <th>session_len_std</th>\n",
       "      <th>submit_upgrade_ratio</th>\n",
       "      <th>thumb_down_ratio</th>\n",
       "      <th>thumb_up_ratio</th>\n",
       "      <th>time</th>\n",
       "    </tr>\n",
       "  </thead>\n",
       "  <tbody>\n",
       "    <tr>\n",
       "      <th>0</th>\n",
       "      <td>0.014471</td>\n",
       "      <td>0.020813</td>\n",
       "      <td>1</td>\n",
       "      <td>0.000645</td>\n",
       "      <td>0.040880</td>\n",
       "      <td>17451.207411</td>\n",
       "      <td>14958.456683</td>\n",
       "      <td>0.001117</td>\n",
       "      <td>0.010835</td>\n",
       "      <td>0.039791</td>\n",
       "      <td>67.968020</td>\n",
       "    </tr>\n",
       "    <tr>\n",
       "      <th>1</th>\n",
       "      <td>0.015738</td>\n",
       "      <td>0.022584</td>\n",
       "      <td>0</td>\n",
       "      <td>0.001041</td>\n",
       "      <td>0.028317</td>\n",
       "      <td>15674.769718</td>\n",
       "      <td>15757.455012</td>\n",
       "      <td>0.000689</td>\n",
       "      <td>0.009424</td>\n",
       "      <td>0.043303</td>\n",
       "      <td>87.048714</td>\n",
       "    </tr>\n",
       "  </tbody>\n",
       "</table>\n",
       "</div>"
      ],
      "text/plain": [
       "   add_friend_ratio  add_palylist_ratio  churn_Cancel  error_ratio  \\\n",
       "0          0.014471            0.020813             1     0.000645   \n",
       "1          0.015738            0.022584             0     0.001041   \n",
       "\n",
       "   roll_advert_ratio  session_len_avg  session_len_std  submit_upgrade_ratio  \\\n",
       "0           0.040880     17451.207411     14958.456683              0.001117   \n",
       "1           0.028317     15674.769718     15757.455012              0.000689   \n",
       "\n",
       "   thumb_down_ratio  thumb_up_ratio       time  \n",
       "0          0.010835        0.039791  67.968020  \n",
       "1          0.009424        0.043303  87.048714  "
      ]
     },
     "execution_count": 21,
     "metadata": {},
     "output_type": "execute_result"
    }
   ],
   "source": [
    "df"
   ]
  },
  {
   "cell_type": "code",
   "execution_count": 24,
   "metadata": {},
   "outputs": [],
   "source": [
    "d = df.set_index('churn_Cancel')"
   ]
  },
  {
   "cell_type": "code",
   "execution_count": 25,
   "metadata": {},
   "outputs": [
    {
     "data": {
      "text/html": [
       "<div>\n",
       "<style scoped>\n",
       "    .dataframe tbody tr th:only-of-type {\n",
       "        vertical-align: middle;\n",
       "    }\n",
       "\n",
       "    .dataframe tbody tr th {\n",
       "        vertical-align: top;\n",
       "    }\n",
       "\n",
       "    .dataframe thead th {\n",
       "        text-align: right;\n",
       "    }\n",
       "</style>\n",
       "<table border=\"1\" class=\"dataframe\">\n",
       "  <thead>\n",
       "    <tr style=\"text-align: right;\">\n",
       "      <th></th>\n",
       "      <th>add_friend_ratio</th>\n",
       "      <th>add_palylist_ratio</th>\n",
       "      <th>error_ratio</th>\n",
       "      <th>roll_advert_ratio</th>\n",
       "      <th>session_len_avg</th>\n",
       "      <th>session_len_std</th>\n",
       "      <th>submit_upgrade_ratio</th>\n",
       "      <th>thumb_down_ratio</th>\n",
       "      <th>thumb_up_ratio</th>\n",
       "      <th>time</th>\n",
       "    </tr>\n",
       "    <tr>\n",
       "      <th>churn_Cancel</th>\n",
       "      <th></th>\n",
       "      <th></th>\n",
       "      <th></th>\n",
       "      <th></th>\n",
       "      <th></th>\n",
       "      <th></th>\n",
       "      <th></th>\n",
       "      <th></th>\n",
       "      <th></th>\n",
       "      <th></th>\n",
       "    </tr>\n",
       "  </thead>\n",
       "  <tbody>\n",
       "    <tr>\n",
       "      <th>1</th>\n",
       "      <td>0.014471</td>\n",
       "      <td>0.020813</td>\n",
       "      <td>0.000645</td>\n",
       "      <td>0.040880</td>\n",
       "      <td>17451.207411</td>\n",
       "      <td>14958.456683</td>\n",
       "      <td>0.001117</td>\n",
       "      <td>0.010835</td>\n",
       "      <td>0.039791</td>\n",
       "      <td>67.968020</td>\n",
       "    </tr>\n",
       "    <tr>\n",
       "      <th>0</th>\n",
       "      <td>0.015738</td>\n",
       "      <td>0.022584</td>\n",
       "      <td>0.001041</td>\n",
       "      <td>0.028317</td>\n",
       "      <td>15674.769718</td>\n",
       "      <td>15757.455012</td>\n",
       "      <td>0.000689</td>\n",
       "      <td>0.009424</td>\n",
       "      <td>0.043303</td>\n",
       "      <td>87.048714</td>\n",
       "    </tr>\n",
       "  </tbody>\n",
       "</table>\n",
       "</div>"
      ],
      "text/plain": [
       "              add_friend_ratio  add_palylist_ratio  error_ratio  \\\n",
       "churn_Cancel                                                      \n",
       "1                     0.014471            0.020813     0.000645   \n",
       "0                     0.015738            0.022584     0.001041   \n",
       "\n",
       "              roll_advert_ratio  session_len_avg  session_len_std  \\\n",
       "churn_Cancel                                                        \n",
       "1                      0.040880     17451.207411     14958.456683   \n",
       "0                      0.028317     15674.769718     15757.455012   \n",
       "\n",
       "              submit_upgrade_ratio  thumb_down_ratio  thumb_up_ratio  \\\n",
       "churn_Cancel                                                           \n",
       "1                         0.001117          0.010835        0.039791   \n",
       "0                         0.000689          0.009424        0.043303   \n",
       "\n",
       "                   time  \n",
       "churn_Cancel             \n",
       "1             67.968020  \n",
       "0             87.048714  "
      ]
     },
     "execution_count": 25,
     "metadata": {},
     "output_type": "execute_result"
    }
   ],
   "source": [
    "d"
   ]
  },
  {
   "cell_type": "code",
   "execution_count": 28,
   "metadata": {},
   "outputs": [],
   "source": [
    "delta = (d.loc[1]/d.loc[0]-1)*100"
   ]
  },
  {
   "cell_type": "code",
   "execution_count": 29,
   "metadata": {},
   "outputs": [
    {
     "data": {
      "text/plain": [
       "add_friend_ratio        -8.049877\n",
       "add_palylist_ratio      -7.845583\n",
       "error_ratio            -38.049037\n",
       "roll_advert_ratio       44.366447\n",
       "session_len_avg         11.333102\n",
       "session_len_std         -5.070605\n",
       "submit_upgrade_ratio    62.017697\n",
       "thumb_down_ratio        14.975830\n",
       "thumb_up_ratio          -8.110407\n",
       "time                   -21.919559\n",
       "dtype: float64"
      ]
     },
     "execution_count": 29,
     "metadata": {},
     "output_type": "execute_result"
    }
   ],
   "source": [
    "delta"
   ]
  },
  {
   "cell_type": "code",
   "execution_count": 34,
   "metadata": {},
   "outputs": [
    {
     "data": {
      "text/plain": [
       "Text(0, 0.5, 'Delta (%)')"
      ]
     },
     "execution_count": 34,
     "metadata": {},
     "output_type": "execute_result"
    },
    {
     "data": {
      "image/png": "[encoded data removed]",
      "text/plain": [
       "<Figure size 432x288 with 1 Axes>"
      ]
     },
     "metadata": {
      "needs_background": "light"
     },
     "output_type": "display_data"
    }
   ],
   "source": [
    "color = ['b' if x>0 else 'r' for x in delta]\n",
    "delta.plot.bar(color=color);\n",
    "plt.ylabel('Delta (%)')"
   ]
  },
  {
   "cell_type": "code",
   "execution_count": 36,
   "metadata": {},
   "outputs": [],
   "source": [
    "#Full dataset\n",
    "fi_cancel = pd.DataFrame({'Importance': [0.11156252, 0.10679758, 0.06009227, 0.15211177, 0.03097527,\n",
    "       0.08795566, 0.04286932, 0.10515224, 0.09834546, 0.18061292,\n",
    "       0.00132843, 0.00328822, 0.00262389, 0.00681254, 0.00340545,\n",
    "       0.00606647], 'Feature': ['thumb_up_ratio', 'thumb_down_ratio', 'add_friend_ratio', 'roll_advert_ratio', 'add_palylist_ratio', 'submit_upgrade_ratio', 'error_ratio', 'session_len_avg', 'session_len_std', 'time', 'gender', 'status_404', 'device0', 'device1', 'device2', 'device3']})"
   ]
  },
  {
   "cell_type": "code",
   "execution_count": 47,
   "metadata": {},
   "outputs": [
    {
     "data": {
      "image/png": "[encoded data removed]",
      "text/plain": [
       "<Figure size 432x288 with 1 Axes>"
      ]
     },
     "metadata": {
      "needs_background": "light"
     },
     "output_type": "display_data"
    }
   ],
   "source": [
    "sns.barplot(y='Feature', x='Importance', data=fi_cancel.sort_values('Importance', ascending=False))\n",
    "plt.title('Feature Importance: Churn of Cancellation');"
   ]
  },
  {
   "cell_type": "code",
   "execution_count": 46,
   "metadata": {},
   "outputs": [],
   "source": [
    "fi_downgrade=pd.DataFrame({'Importance': [0.07873384, 0.09587231, 0.07568663, 0.21681246, 0.07383164,\n",
    "       0.21422365, 0.05922658, 0.05971482, 0.06581646, 0.0407637 ,\n",
    "       0.00100988, 0.00167394, 0.00261001, 0.00144628, 0.00886811,\n",
    "       0.00370969], \n",
    "    'Feature': ['thumb_up_ratio', 'thumb_down_ratio', 'add_friend_ratio', 'roll_advert_ratio', 'add_palylist_ratio', 'submit_upgrade_ratio', 'error_ratio', 'session_len_avg', 'session_len_std', 'time', 'gender', 'status_404', 'device0', 'device1', 'device2', 'device3']})"
   ]
  },
  {
   "cell_type": "code",
   "execution_count": 48,
   "metadata": {},
   "outputs": [
    {
     "data": {
      "image/png": "[encoded data removed]",
      "text/plain": [
       "<Figure size 432x288 with 1 Axes>"
      ]
     },
     "metadata": {
      "needs_background": "light"
     },
     "output_type": "display_data"
    }
   ],
   "source": [
    "sns.barplot(y='Feature', x='Importance', data=fi_downgrade.sort_values('Importance', ascending=False))\n",
    "plt.title('Feature Importance: Churn of Downgrade');"
   ]
  },
  {
   "cell_type": "code",
   "execution_count": 54,
   "metadata": {},
   "outputs": [],
   "source": [
    "## Mean of continuous features for churn and no-churn\n",
    "mean_cancel = spark.createDataFrame([Row(churn_Cancel=1, thumb_up_ratio=0.03884181695625863, add_friend_ratio=0.014475170310004592, \n",
    "                                         roll_advert_ratio=0.03729404184393977, add_palylist_ratio=0.021833674471137175, \n",
    "                                         thumb_down_ratio=0.011992995161779773, submit_upgrade_ratio=0.0011073805918634905, \n",
    "                                         session_len_avg=17222.53430207806, time=63.718817195793605, session_len_std=15859.129901157647, \n",
    "                                         error_ratio=0.0010104320777228081), Row(churn_Cancel=0, thumb_up_ratio=0.04426469342324222, \n",
    "                                        add_friend_ratio=0.015147195222619793, roll_advert_ratio=0.029078504439365126, \n",
    "                                        add_palylist_ratio=0.022549195283939533, thumb_down_ratio=0.009611730964541678, submit_upgrade_ratio=0.0008096641362242619,session_len_avg=16391.743286512923, \n",
    "                                        time=89.08563652583202, session_len_std=15906.165752162457, error_ratio=0.001021583859221606)]).toPandas()"
   ]
  },
  {
   "cell_type": "code",
   "execution_count": 55,
   "metadata": {},
   "outputs": [
    {
     "data": {
      "image/png": "[encoded data removed]",
      "text/plain": [
       "<Figure size 432x288 with 1 Axes>"
      ]
     },
     "metadata": {
      "needs_background": "light"
     },
     "output_type": "display_data"
    }
   ],
   "source": [
    "mean_cancel = mean_cancel.set_index('churn_Cancel')\n",
    "delta_cancel = mean_cancel.loc[1]/mean_cancel.loc[0]*100-100\n",
    "color = ['b' if x>0 else 'r' for x in delta_mean]\n",
    "delta_cancel.plot.bar(color=color);\n",
    "plt.ylabel('Delta (%)');\n",
    "plt.title('Churn due to Cancellation');"
   ]
  },
  {
   "cell_type": "code",
   "execution_count": 57,
   "metadata": {},
   "outputs": [],
   "source": [
    "mean_downgrade = spark.createDataFrame([Row(churn_Downgrade=1, thumb_up_ratio=0.04200537339626784, add_friend_ratio=0.014954732202469102, roll_advert_ratio=0.022614039230351966, add_palylist_ratio=0.022902345636838274, thumb_down_ratio=0.010473076061888603, submit_upgrade_ratio=0.0010578505759255895, session_len_avg=18895.018488125126, time=88.99539589321101, session_len_std=20174.979011201605, error_ratio=0.0009847229626781869), \n",
    "                  Row(churn_Downgrade=0, thumb_up_ratio=0.04335626551671669, add_friend_ratio=0.015008613538330455, roll_advert_ratio=0.033392612952040185, add_palylist_ratio=0.02223582176133022, thumb_down_ratio=0.010049486918135534, submit_upgrade_ratio=0.0008226477175545974, session_len_avg=15889.951863259479, time=81.72277993098417, session_len_std=14624.048923033899, error_ratio=0.0010292878764699219)]).toPandas()"
   ]
  },
  {
   "cell_type": "code",
   "execution_count": 58,
   "metadata": {},
   "outputs": [
    {
     "data": {
      "image/png": "[encoded data removed]",
      "text/plain": [
       "<Figure size 432x288 with 1 Axes>"
      ]
     },
     "metadata": {
      "needs_background": "light"
     },
     "output_type": "display_data"
    }
   ],
   "source": [
    "mean_downgrade = mean_downgrade.set_index('churn_Downgrade')\n",
    "delta_downgrade = mean_downgrade.loc[1]/mean_downgrade.loc[0]*100-100\n",
    "color = ['b' if x>0 else 'r' for x in delta_downgrade]\n",
    "delta_downgrade.plot.bar(color=color);\n",
    "plt.ylabel('Delta (%)');\n",
    "plt.title('Churn due to Downgrade');"
   ]
  },
  {
   "cell_type": "code",
   "execution_count": null,
   "metadata": {},
   "outputs": [],
   "source": [
    "+----------------------------+-----+----+\n",
    "|churn_Cancel_churn_Downgrade|    0|   1|\n",
    "+----------------------------+-----+----+\n",
    "|                           1| 3860|1143|\n",
    "|                           0|13314|3960|\n",
    "+----------------------------+-----+----+"
   ]
  },
  {
   "cell_type": "code",
   "execution_count": 59,
   "metadata": {},
   "outputs": [
    {
     "data": {
      "text/plain": [
       "0.22458140683215874"
      ]
     },
     "execution_count": 59,
     "metadata": {},
     "output_type": "execute_result"
    }
   ],
   "source": [
    "(3860+1143)/(3860+1143+13314+3960)"
   ]
  },
  {
   "cell_type": "code",
   "execution_count": 60,
   "metadata": {},
   "outputs": [
    {
     "data": {
      "text/plain": [
       "0.22907034160793643"
      ]
     },
     "execution_count": 60,
     "metadata": {},
     "output_type": "execute_result"
    }
   ],
   "source": [
    "(1143+3960)/(1143+3960+3860+13314)"
   ]
  },
  {
   "cell_type": "code",
   "execution_count": null,
   "metadata": {},
   "outputs": [],
   "source": []
  }
 ],
 "metadata": {
  "kernelspec": {
   "display_name": "Python 3",
   "language": "python",
   "name": "python3"
  },
  "language_info": {
   "codemirror_mode": {
    "name": "ipython",
    "version": 3
   },
   "file_extension": ".py",
   "mimetype": "text/x-python",
   "name": "python",
   "nbconvert_exporter": "python",
   "pygments_lexer": "ipython3",
   "version": "3.7.2"
  }
 },
 "nbformat": 4,
 "nbformat_minor": 2
}
