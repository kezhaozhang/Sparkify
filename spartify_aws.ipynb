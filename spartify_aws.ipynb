{
 "cells": [
  {
   "cell_type": "code",
   "execution_count": 1,
   "metadata": {},
   "outputs": [
    {
     "data": {
      "application/vnd.jupyter.widget-view+json": {
       "model_id": "ad17e5dfc4af4fe28ba1f57bdc47a7bc",
       "version_major": 2,
       "version_minor": 0
      },
      "text/plain": [
       "VBox()"
      ]
     },
     "metadata": {},
     "output_type": "display_data"
    },
    {
     "name": "stdout",
     "output_type": "stream",
     "text": [
      "Starting Spark application\n"
     ]
    },
    {
     "data": {
      "text/html": [
       "<table>\n",
       "<tr><th>ID</th><th>YARN Application ID</th><th>Kind</th><th>State</th><th>Spark UI</th><th>Driver log</th><th>Current session?</th></tr><tr><td>0</td><td>application_1562298471208_0001</td><td>pyspark</td><td>idle</td><td><a target=\"_blank\" href=\"http://ip-172-31-40-229.us-west-2.compute.internal:20888/proxy/application_1562298471208_0001/\">Link</a></td><td><a target=\"_blank\" href=\"http://ip-172-31-41-215.us-west-2.compute.internal:8042/node/containerlogs/container_1562298471208_0001_01_000001/livy\">Link</a></td><td>✔</td></tr></table>"
      ],
      "text/plain": [
       "<IPython.core.display.HTML object>"
      ]
     },
     "metadata": {},
     "output_type": "display_data"
    },
    {
     "name": "stdout",
     "output_type": "stream",
     "text": [
      "SparkSession available as 'spark'.\n"
     ]
    }
   ],
   "source": [
    "# import libraries\n",
    "import numpy as np\n",
    "import re\n",
    "import datetime\n",
    "from pyspark.sql import SparkSession\n",
    "from pyspark.sql.functions import *\n",
    "from pyspark.sql.types import *\n",
    "from pyspark.ml.classification import GBTClassifier, LogisticRegression, RandomForestClassifier\n",
    "from pyspark.ml import Pipeline\n",
    "from pyspark.ml.feature import OneHotEncoderEstimator, VectorIndexer, VectorAssembler, CountVectorizer, StringIndexer, StandardScaler\n",
    "from pyspark.ml.evaluation import BinaryClassificationEvaluator, MulticlassClassificationEvaluator\n",
    "from pyspark.ml.tuning import CrossValidator, ParamGridBuilder\n",
    "import time"
   ]
  },
  {
   "cell_type": "code",
   "execution_count": 2,
   "metadata": {},
   "outputs": [
    {
     "data": {
      "application/vnd.jupyter.widget-view+json": {
       "model_id": "18d112c2fee043e2935b7aa7c440e865",
       "version_major": 2,
       "version_minor": 0
      },
      "text/plain": [
       "VBox()"
      ]
     },
     "metadata": {},
     "output_type": "display_data"
    },
    {
     "name": "stdout",
     "output_type": "stream",
     "text": [
      "Row(artist=u'Popol Vuh', auth=u'Logged In', firstName=u'Shlok', gender=u'M', itemInSession=278, lastName=u'Johnson', length=524.32934, level=u'paid', location=u'Dallas-Fort Worth-Arlington, TX', method=u'PUT', page=u'NextSong', registration=1533734541000, sessionId=22683, song=u'Ich mache einen Spiegel - Dream Part 4', status=200, ts=1538352001000, userAgent=u'\"Mozilla/5.0 (Windows NT 6.1; WOW64) AppleWebKit/537.36 (KHTML, like Gecko) Chrome/36.0.1985.143 Safari/537.36\"', userId=u'1749042')"
     ]
    }
   ],
   "source": [
    "# Create spark session\n",
    "spark = SparkSession \\\n",
    "    .builder \\\n",
    "    .appName(\"Sparkify\") \\\n",
    "    .getOrCreate()\n",
    "\n",
    "# Read in full sparkify dataset\n",
    "event_data = \"s3n://udacity-dsnd/sparkify/sparkify_event_data.json\"\n",
    "data = spark.read.json(event_data)\n",
    "data.head()"
   ]
  },
  {
   "cell_type": "code",
   "execution_count": 3,
   "metadata": {},
   "outputs": [
    {
     "data": {
      "application/vnd.jupyter.widget-view+json": {
       "model_id": "6d67c8a5846947a0ad4f868d563e3d0f",
       "version_major": 2,
       "version_minor": 0
      },
      "text/plain": [
       "VBox()"
      ]
     },
     "metadata": {},
     "output_type": "display_data"
    },
    {
     "name": "stdout",
     "output_type": "stream",
     "text": [
      "26259199"
     ]
    }
   ],
   "source": [
    "data.count()"
   ]
  },
  {
   "cell_type": "code",
   "execution_count": 3,
   "metadata": {},
   "outputs": [
    {
     "data": {
      "application/vnd.jupyter.widget-view+json": {
       "model_id": "36518cf0005243fb949d8303b7771b48",
       "version_major": 2,
       "version_minor": 0
      },
      "text/plain": [
       "VBox()"
      ]
     },
     "metadata": {},
     "output_type": "display_data"
    }
   ],
   "source": [
    "#remove missing data based on user first and last names\n",
    "data = data.dropna(subset=['firstName', 'lastName'])"
   ]
  },
  {
   "cell_type": "code",
   "execution_count": 5,
   "metadata": {},
   "outputs": [
    {
     "data": {
      "application/vnd.jupyter.widget-view+json": {
       "model_id": "8bdf31b51f654fb894a40056335084ad",
       "version_major": 2,
       "version_minor": 0
      },
      "text/plain": [
       "VBox()"
      ]
     },
     "metadata": {},
     "output_type": "display_data"
    },
    {
     "name": "stdout",
     "output_type": "stream",
     "text": [
      "+-------+----+---------+------+-------------+--------+-------+-----+--------+------+----+------------+---------+-------+------+---+---------+------+\n",
      "| artist|auth|firstName|gender|itemInSession|lastName| length|level|location|method|page|registration|sessionId|   song|status| ts|userAgent|userId|\n",
      "+-------+----+---------+------+-------------+--------+-------+-----+--------+------+----+------------+---------+-------+------+---+---------+------+\n",
      "|4630448|   0|        0|     0|            0|       0|4630448|    0|       0|     0|   0|           0|        0|4630448|     0|  0|        0|     0|\n",
      "+-------+----+---------+------+-------------+--------+-------+-----+--------+------+----+------------+---------+-------+------+---+---------+------+"
     ]
    }
   ],
   "source": [
    "data.agg(*[count(when(isnull(c),1)).alias(c) for c in data.columns]).show()"
   ]
  },
  {
   "cell_type": "code",
   "execution_count": 6,
   "metadata": {},
   "outputs": [
    {
     "data": {
      "application/vnd.jupyter.widget-view+json": {
       "model_id": "29a766b1ef73428bb15561a0d6751a7d",
       "version_major": 2,
       "version_minor": 0
      },
      "text/plain": [
       "VBox()"
      ]
     },
     "metadata": {},
     "output_type": "display_data"
    },
    {
     "name": "stdout",
     "output_type": "stream",
     "text": [
      "25480720"
     ]
    }
   ],
   "source": [
    "# number of records\n",
    "data.count()"
   ]
  },
  {
   "cell_type": "code",
   "execution_count": 7,
   "metadata": {},
   "outputs": [
    {
     "data": {
      "application/vnd.jupyter.widget-view+json": {
       "model_id": "60223686a3fd44c787c55da2470523c6",
       "version_major": 2,
       "version_minor": 0
      },
      "text/plain": [
       "VBox()"
      ]
     },
     "metadata": {},
     "output_type": "display_data"
    },
    {
     "name": "stdout",
     "output_type": "stream",
     "text": [
      "22277"
     ]
    }
   ],
   "source": [
    "# number of users\n",
    "data.groupby('firstName', 'lastName', 'userId').count().count()"
   ]
  },
  {
   "cell_type": "markdown",
   "metadata": {},
   "source": [
    "### Churn and Feature Enigneering"
   ]
  },
  {
   "cell_type": "code",
   "execution_count": 19,
   "metadata": {},
   "outputs": [
    {
     "data": {
      "application/vnd.jupyter.widget-view+json": {
       "model_id": "3bf57a9375714ba8ae6fe8019beff519",
       "version_major": 2,
       "version_minor": 0
      },
      "text/plain": [
       "VBox()"
      ]
     },
     "metadata": {},
     "output_type": "display_data"
    },
    {
     "name": "stdout",
     "output_type": "stream",
     "text": [
      "+-------+---------------+------------+\n",
      "| userId|churn_Downgrade|churn_Cancel|\n",
      "+-------+---------------+------------+\n",
      "|1002185|              0|           0|\n",
      "|1057724|              0|           0|\n",
      "|1083324|              1|           0|\n",
      "|1114507|              0|           0|\n",
      "|1178731|              0|           0|\n",
      "+-------+---------------+------------+\n",
      "only showing top 5 rows"
     ]
    }
   ],
   "source": [
    "churn = data.groupby('userId').agg(array_contains(collect_set('page'), 'Submit Downgrade').alias('churn_Downgrade'), \\\n",
    "    array_contains(collect_set('page'), 'Cancellation Confirmation').alias('churn_Cancel')) \\\n",
    ".select('userId', col('churn_Downgrade').cast(IntegerType()), col('churn_Cancel').cast(IntegerType()))\n",
    "churn.show(5)"
   ]
  },
  {
   "cell_type": "code",
   "execution_count": 9,
   "metadata": {},
   "outputs": [
    {
     "data": {
      "application/vnd.jupyter.widget-view+json": {
       "model_id": "695b34f00e0e4115ae7ad4d06e0265fc",
       "version_major": 2,
       "version_minor": 0
      },
      "text/plain": [
       "VBox()"
      ]
     },
     "metadata": {},
     "output_type": "display_data"
    },
    {
     "name": "stdout",
     "output_type": "stream",
     "text": [
      "+----------------------------+-----+----+\n",
      "|churn_Cancel_churn_Downgrade|    0|   1|\n",
      "+----------------------------+-----+----+\n",
      "|                           1| 3860|1143|\n",
      "|                           0|13314|3960|\n",
      "+----------------------------+-----+----+"
     ]
    }
   ],
   "source": [
    "churn.crosstab('churn_Cancel', 'churn_Downgrade').show()"
   ]
  },
  {
   "cell_type": "markdown",
   "metadata": {},
   "source": [
    "#### Session length, Number of items per session and Number of songs per session"
   ]
  },
  {
   "cell_type": "code",
   "execution_count": 4,
   "metadata": {},
   "outputs": [
    {
     "data": {
      "application/vnd.jupyter.widget-view+json": {
       "model_id": "bbca62dc11444950839224b4b2bb7910",
       "version_major": 2,
       "version_minor": 0
      },
      "text/plain": [
       "VBox()"
      ]
     },
     "metadata": {},
     "output_type": "display_data"
    },
    {
     "name": "stdout",
     "output_type": "stream",
     "text": [
      "+-------+------------------+------------------+----------------+------------------+-------------------+-------------------+\n",
      "| userId|   session_len_avg|   session_len_std|     n_items_avg|       n_items_std|n_songs_session_avg|n_songs_session_std|\n",
      "+-------+------------------+------------------+----------------+------------------+-------------------+-------------------+\n",
      "|1633577|18230.282608695652|23023.776841115112|89.8695652173913|110.27493090668173|  74.69565217391305|  93.21846969237073|\n",
      "|1875484|          14910.24|15733.354360720412|           73.36| 72.69908298367089|              59.96|  61.87115644627955|\n",
      "|1797408|         20318.875| 19303.54166770095|          98.875| 92.71093067522656|               83.0|   78.6774003976576|\n",
      "|1829495|           16541.2|11109.655989273475|            78.4| 54.59212397406791|               66.4|  46.04128582044598|\n",
      "|1770964|         13706.625|11684.373963403716|         71.1875| 58.07950728670713|            55.0625|  46.34431824218945|\n",
      "+-------+------------------+------------------+----------------+------------------+-------------------+-------------------+\n",
      "only showing top 5 rows"
     ]
    }
   ],
   "source": [
    "# for each user:\n",
    "# average and stdev of sessnion_length (in seconds), \n",
    "# avg and stdev of number of songs per session\n",
    "session_length_items_songs = data.groupby('userId', 'sessionId') \\\n",
    ".agg(((max('ts')-min('ts'))/1000).alias('session_length'), \\\n",
    "     count('sessionId').alias('n_items'), \\\n",
    "     sum((col('page') == 'NextSong').cast(IntegerType())).alias('n_songs')\n",
    "    ) \\\n",
    ".groupby('userId') \\\n",
    ".agg(avg('session_length').alias('session_len_avg'), \\\n",
    "     stddev_samp('session_length').alias('session_len_std'), \\\n",
    "     avg('n_items').alias('n_items_avg'), \\\n",
    "     stddev_samp('n_items').alias('n_items_std'), \\\n",
    "     avg('n_songs').alias('n_songs_session_avg'), stddev_samp('n_songs').alias('n_songs_session_std') \\\n",
    "    ).fillna(0)\n",
    "session_length_items_songs.show(5)"
   ]
  },
  {
   "cell_type": "markdown",
   "metadata": {},
   "source": [
    "#### Thumb Up, Thumb Down, Add Friend, Roll Advert, Add to Playlist,  Submit Upgrad, Error"
   ]
  },
  {
   "cell_type": "code",
   "execution_count": 5,
   "metadata": {},
   "outputs": [
    {
     "data": {
      "application/vnd.jupyter.widget-view+json": {
       "model_id": "a79f4332d47747e4a946c7fc97c1916c",
       "version_major": 2,
       "version_minor": 0
      },
      "text/plain": [
       "VBox()"
      ]
     },
     "metadata": {},
     "output_type": "display_data"
    },
    {
     "name": "stdout",
     "output_type": "stream",
     "text": [
      "+-------+--------------------+--------------------+--------------------+---------------------+--------------------+--------------------+---------------------+\n",
      "|userId |thumb_up_ratio      |thumb_down_ratio    |add_friend_ratio    |roll_advert_ratio    |add_palylist_ratio  |submit_upgrade_ratio|error_ratio          |\n",
      "+-------+--------------------+--------------------+--------------------+---------------------+--------------------+--------------------+---------------------+\n",
      "|1331962|0.04126547455295736 |0.011004126547455296|0.005502063273727648|0.001375515818431912 |0.023383768913342505|0.0                 |0.001375515818431912 |\n",
      "|1178731|0.046445497630331754|0.008530805687203791|0.011058451816745656|0.0022116903633491313|0.026540284360189573|0.0                 |0.0022116903633491313|\n",
      "|1528396|0.01948051948051948 |0.01948051948051948 |0.0                 |0.0                  |0.012987012987012988|0.0                 |0.0                  |\n",
      "|1002185|0.04423076923076923 |0.006730769230769231|0.01201923076923077 |4.807692307692308E-4 |0.023557692307692307|0.0                 |9.615384615384616E-4 |\n",
      "|1333041|0.035196687370600416|0.008281573498964804|0.027950310559006212|0.07246376811594203  |0.025879917184265012|0.0                 |0.0010351966873706005|\n",
      "+-------+--------------------+--------------------+--------------------+---------------------+--------------------+--------------------+---------------------+\n",
      "only showing top 5 rows"
     ]
    }
   ],
   "source": [
    "##for each user,compute the portion of a given action of all actions\n",
    "\n",
    "portions = data.groupby('userId') \\\n",
    ".agg((sum((col('page')=='Thumbs Up' ).cast(IntegerType()))/count('page')).alias('thumb_up_ratio'), \\\n",
    "     (sum((col('page')=='Thumbs Down' ).cast(IntegerType()))/count('page')).alias('thumb_down_ratio') , \\\n",
    "     (sum((col('page')=='Add Friend' ).cast(IntegerType()))/count('page')).alias('add_friend_ratio') , \\\n",
    "     (sum((col('page')=='Roll Advert' ).cast(IntegerType()))/count('page')).alias('roll_advert_ratio') , \\\n",
    "     (sum((col('page')=='Add to Playlist' ).cast(IntegerType()))/count('page')).alias('add_palylist_ratio') , \\\n",
    "     (sum((col('page')=='Submit Upgrade' ).cast(IntegerType()))/count('page')).alias('submit_upgrade_ratio') , \\\n",
    "     (sum((col('page')=='Error' ).cast(IntegerType()))/count('page')).alias('error_ratio') , \\\n",
    ")\n",
    "portions.show(5,truncate=False)"
   ]
  },
  {
   "cell_type": "markdown",
   "metadata": {},
   "source": [
    "#### Gender, Device and transaction status"
   ]
  },
  {
   "cell_type": "code",
   "execution_count": 6,
   "metadata": {},
   "outputs": [
    {
     "data": {
      "application/vnd.jupyter.widget-view+json": {
       "model_id": "c0e586145c6348d6b4fa843a94c6acc7",
       "version_major": 2,
       "version_minor": 0
      },
      "text/plain": [
       "VBox()"
      ]
     },
     "metadata": {},
     "output_type": "display_data"
    },
    {
     "name": "stdout",
     "output_type": "stream",
     "text": [
      "+-------+------+-------+------------------+----------+\n",
      "| userId|gender| device|              time|status_404|\n",
      "+-------+------+-------+------------------+----------+\n",
      "|1002185|     F|Windows| 65.75105324074075|         1|\n",
      "|1057724|     M|    Mac| 96.04454861111111|         1|\n",
      "|1069552|     F|Windows|126.26884259259259|         1|\n",
      "|1142513|     M|Windows| 117.1135300925926|         1|\n",
      "|1178731|     F|Windows| 93.45488425925926|         1|\n",
      "+-------+------+-------+------------------+----------+\n",
      "only showing top 5 rows"
     ]
    }
   ],
   "source": [
    "## Device of user\n",
    "def DeviceType(s):\n",
    "    try:\n",
    "        s = s.lower()\n",
    "    except:\n",
    "        s=''\n",
    "    result = 'None'\n",
    "    if ('windows nt' in s) or ('compatible' in s):\n",
    "        result = 'Windows'\n",
    "    if 'x11' in s:\n",
    "        result = 'X11'\n",
    "    if 'ipad' in s:\n",
    "        result = 'iPad'\n",
    "    if 'iphone' in s:\n",
    "        result = 'iPhone'\n",
    "    if 'macintosh' in s:\n",
    "        result = 'Mac'\n",
    "    return result\n",
    "device = udf(DeviceType, StringType())  \n",
    "\n",
    "#For each user:\n",
    "# gender\n",
    "# device used to access sparkify\n",
    "# time lapse between latest transaction and registration (in days)\n",
    "#whether contains 404 web status\n",
    "gender_device_time_status = data.groupby('userId') \\\n",
    ".agg(first('gender').alias('gender'), \\\n",
    "     device(first('userAgent')).alias('device'), \\\n",
    "     ((max('ts')-avg('registration'))/1000/3600/24).alias('time'), \\\n",
    "     array_contains(collect_set('status'), 404).cast(IntegerType()).alias('status_404') \\\n",
    ")\n",
    "\n",
    "gender_device_time_status.show(5)"
   ]
  },
  {
   "cell_type": "markdown",
   "metadata": {},
   "source": [
    "#### Combine All Features into One Data Frame"
   ]
  },
  {
   "cell_type": "code",
   "execution_count": 20,
   "metadata": {},
   "outputs": [
    {
     "data": {
      "application/vnd.jupyter.widget-view+json": {
       "model_id": "fd74bcfb21b245fa9bb20cb3d216f8ad",
       "version_major": 2,
       "version_minor": 0
      },
      "text/plain": [
       "VBox()"
      ]
     },
     "metadata": {},
     "output_type": "display_data"
    }
   ],
   "source": [
    "#transoform: onehotencoding for gender\n",
    "#churn\n",
    "#portions\n",
    "#session_length_items_songs\n",
    "#gender_device_time_status\n",
    "df = churn.join(portions, on='userId') \\\n",
    "          .join(session_length_items_songs, on='userId') \\\n",
    "          .join(gender_device_time_status, on='userId')"
   ]
  },
  {
   "cell_type": "code",
   "execution_count": 14,
   "metadata": {},
   "outputs": [
    {
     "data": {
      "application/vnd.jupyter.widget-view+json": {
       "model_id": "9864a97e250849c081470be5479f61c8",
       "version_major": 2,
       "version_minor": 0
      },
      "text/plain": [
       "VBox()"
      ]
     },
     "metadata": {},
     "output_type": "display_data"
    },
    {
     "name": "stdout",
     "output_type": "stream",
     "text": [
      "+-------------------+----+----+\n",
      "|churn_Cancel_gender|   F|   M|\n",
      "+-------------------+----+----+\n",
      "|                  1|2347|2656|\n",
      "|                  0|8279|8995|\n",
      "+-------------------+----+----+"
     ]
    }
   ],
   "source": [
    "#### Categorical Features\n",
    "df.crosstab('churn_Cancel', 'gender').show()"
   ]
  },
  {
   "cell_type": "code",
   "execution_count": 15,
   "metadata": {},
   "outputs": [
    {
     "data": {
      "application/vnd.jupyter.widget-view+json": {
       "model_id": "3d303dc0544448c2af9739198f7b60a0",
       "version_major": 2,
       "version_minor": 0
      },
      "text/plain": [
       "VBox()"
      ]
     },
     "metadata": {},
     "output_type": "display_data"
    },
    {
     "name": "stdout",
     "output_type": "stream",
     "text": [
      "+----------------------+----+----+\n",
      "|churn_Downgrade_gender|   F|   M|\n",
      "+----------------------+----+----+\n",
      "|                     1|2488|2615|\n",
      "|                     0|8138|9036|\n",
      "+----------------------+----+----+"
     ]
    }
   ],
   "source": [
    "df.crosstab('churn_Downgrade', 'gender').show()"
   ]
  },
  {
   "cell_type": "code",
   "execution_count": 16,
   "metadata": {},
   "outputs": [
    {
     "data": {
      "application/vnd.jupyter.widget-view+json": {
       "model_id": "1cee46621b4e4414a29d7895c0aa3957",
       "version_major": 2,
       "version_minor": 0
      },
      "text/plain": [
       "VBox()"
      ]
     },
     "metadata": {},
     "output_type": "display_data"
    },
    {
     "name": "stdout",
     "output_type": "stream",
     "text": [
      "+-----------------------+----+----+\n",
      "|churn_Cancel_status_404|   0|   1|\n",
      "+-----------------------+----+----+\n",
      "|                      1|2544|2459|\n",
      "|                      0|8461|8813|\n",
      "+-----------------------+----+----+"
     ]
    }
   ],
   "source": [
    "df.crosstab('churn_Cancel', 'status_404').show()"
   ]
  },
  {
   "cell_type": "code",
   "execution_count": 17,
   "metadata": {},
   "outputs": [
    {
     "data": {
      "application/vnd.jupyter.widget-view+json": {
       "model_id": "13bb6ff2046a4826aede377ddcfdb400",
       "version_major": 2,
       "version_minor": 0
      },
      "text/plain": [
       "VBox()"
      ]
     },
     "metadata": {},
     "output_type": "display_data"
    },
    {
     "name": "stdout",
     "output_type": "stream",
     "text": [
      "+--------------------------+----+----+\n",
      "|churn_Downgrade_status_404|   0|   1|\n",
      "+--------------------------+----+----+\n",
      "|                         1|1368|3735|\n",
      "|                         0|9637|7537|\n",
      "+--------------------------+----+----+"
     ]
    }
   ],
   "source": [
    "df.crosstab('churn_Downgrade', 'status_404').show()"
   ]
  },
  {
   "cell_type": "code",
   "execution_count": 18,
   "metadata": {},
   "outputs": [
    {
     "data": {
      "application/vnd.jupyter.widget-view+json": {
       "model_id": "d8f56544db6c4462adb1a906f2ad5f32",
       "version_major": 2,
       "version_minor": 0
      },
      "text/plain": [
       "VBox()"
      ]
     },
     "metadata": {},
     "output_type": "display_data"
    },
    {
     "name": "stdout",
     "output_type": "stream",
     "text": [
      "+-------------------+----+-------+----+----+------+\n",
      "|churn_Cancel_device| Mac|Windows| X11|iPad|iPhone|\n",
      "+-------------------+----+-------+----+----+------+\n",
      "|                  1|2042|   2404| 311|  62|   184|\n",
      "|                  0|6883|   8425|1121| 249|   596|\n",
      "+-------------------+----+-------+----+----+------+"
     ]
    }
   ],
   "source": [
    "device\n",
    "#df.crosstab('churn_Cancel', 'device').show()"
   ]
  },
  {
   "cell_type": "code",
   "execution_count": 19,
   "metadata": {},
   "outputs": [
    {
     "data": {
      "application/vnd.jupyter.widget-view+json": {
       "model_id": "204bfe8f80114120993d84a94ccd8ff4",
       "version_major": 2,
       "version_minor": 0
      },
      "text/plain": [
       "VBox()"
      ]
     },
     "metadata": {},
     "output_type": "display_data"
    },
    {
     "name": "stdout",
     "output_type": "stream",
     "text": [
      "+----------------------+----+-------+----+----+------+\n",
      "|churn_Downgrade_device| Mac|Windows| X11|iPad|iPhone|\n",
      "+----------------------+----+-------+----+----+------+\n",
      "|                     1|1987|   2503| 358|  78|   177|\n",
      "|                     0|6938|   8326|1074| 233|   603|\n",
      "+----------------------+----+-------+----+----+------+"
     ]
    }
   ],
   "source": [
    "df.crosstab('churn_Downgrade', 'device').show()"
   ]
  },
  {
   "cell_type": "code",
   "execution_count": 20,
   "metadata": {},
   "outputs": [
    {
     "data": {
      "application/vnd.jupyter.widget-view+json": {
       "model_id": "663e4538988e4f3f8db7c15441046d33",
       "version_major": 2,
       "version_minor": 0
      },
      "text/plain": [
       "VBox()"
      ]
     },
     "metadata": {},
     "output_type": "display_data"
    }
   ],
   "source": [
    "## Continuous features\n",
    "params = ['thumb_up_ratio',\n",
    " 'thumb_down_ratio',\n",
    " 'add_friend_ratio',\n",
    " 'roll_advert_ratio',\n",
    " 'add_palylist_ratio',\n",
    " 'submit_upgrade_ratio',\n",
    " 'error_ratio',\n",
    " 'session_len_avg',\n",
    " 'session_len_std',\n",
    " 'time']"
   ]
  },
  {
   "cell_type": "code",
   "execution_count": 21,
   "metadata": {},
   "outputs": [
    {
     "data": {
      "application/vnd.jupyter.widget-view+json": {
       "model_id": "c406281512724a38a3fca851de6457f7",
       "version_major": 2,
       "version_minor": 0
      },
      "text/plain": [
       "VBox()"
      ]
     },
     "metadata": {},
     "output_type": "display_data"
    },
    {
     "name": "stdout",
     "output_type": "stream",
     "text": [
      "[Row(churn_Cancel=1, avg(thumb_up_ratio)=0.03884181695625863, avg(add_friend_ratio)=0.014475170310004592, avg(roll_advert_ratio)=0.03729404184393977, avg(add_palylist_ratio)=0.021833674471137175, avg(thumb_down_ratio)=0.011992995161779773, avg(submit_upgrade_ratio)=0.0011073805918634905, avg(session_len_avg)=17222.53430207806, avg(time)=63.718817195793605, avg(session_len_std)=15859.129901157647, avg(error_ratio)=0.0010104320777228081), Row(churn_Cancel=0, avg(thumb_up_ratio)=0.04426469342324222, avg(add_friend_ratio)=0.015147195222619793, avg(roll_advert_ratio)=0.029078504439365126, avg(add_palylist_ratio)=0.022549195283939533, avg(thumb_down_ratio)=0.009611730964541678, avg(submit_upgrade_ratio)=0.0008096641362242619, avg(session_len_avg)=16391.743286512923, avg(time)=89.08563652583202, avg(session_len_std)=15906.165752162457, avg(error_ratio)=0.001021583859221606)]"
     ]
    }
   ],
   "source": [
    "df.select(*(params+['churn_Cancel'])).groupby('churn_Cancel').agg({p:'mean' for p in params}).collect()"
   ]
  },
  {
   "cell_type": "code",
   "execution_count": 22,
   "metadata": {},
   "outputs": [
    {
     "data": {
      "application/vnd.jupyter.widget-view+json": {
       "model_id": "12986eceb675438f8833c92ec992fb8a",
       "version_major": 2,
       "version_minor": 0
      },
      "text/plain": [
       "VBox()"
      ]
     },
     "metadata": {},
     "output_type": "display_data"
    },
    {
     "name": "stdout",
     "output_type": "stream",
     "text": [
      "[Row(churn_Downgrade=1, avg(thumb_up_ratio)=0.04200537339626784, avg(add_friend_ratio)=0.014954732202469102, avg(roll_advert_ratio)=0.022614039230351966, avg(add_palylist_ratio)=0.022902345636838274, avg(thumb_down_ratio)=0.010473076061888603, avg(submit_upgrade_ratio)=0.0010578505759255895, avg(session_len_avg)=18895.018488125126, avg(time)=88.99539589321101, avg(session_len_std)=20174.979011201605, avg(error_ratio)=0.0009847229626781869), Row(churn_Downgrade=0, avg(thumb_up_ratio)=0.04335626551671669, avg(add_friend_ratio)=0.015008613538330455, avg(roll_advert_ratio)=0.033392612952040185, avg(add_palylist_ratio)=0.02223582176133022, avg(thumb_down_ratio)=0.010049486918135534, avg(submit_upgrade_ratio)=0.0008226477175545974, avg(session_len_avg)=15889.951863259479, avg(time)=81.72277993098417, avg(session_len_std)=14624.048923033899, avg(error_ratio)=0.0010292878764699219)]"
     ]
    }
   ],
   "source": [
    "df.select(*(params+['churn_Downgrade'])).groupby('churn_Downgrade').agg({p:'mean' for p in params}).collect()"
   ]
  },
  {
   "cell_type": "markdown",
   "metadata": {},
   "source": [
    "### Modeling"
   ]
  },
  {
   "cell_type": "code",
   "execution_count": 8,
   "metadata": {},
   "outputs": [
    {
     "data": {
      "application/vnd.jupyter.widget-view+json": {
       "model_id": "092278fca10741beb0407eab58211d1c",
       "version_major": 2,
       "version_minor": 0
      },
      "text/plain": [
       "VBox()"
      ]
     },
     "metadata": {},
     "output_type": "display_data"
    }
   ],
   "source": [
    "inputcols = ['thumb_up_ratio', 'thumb_down_ratio', 'add_friend_ratio','roll_advert_ratio', \n",
    "             'add_palylist_ratio', 'submit_upgrade_ratio','error_ratio', 'session_len_avg', \n",
    "             'session_len_std','time', 'gendervec', 'status_404', 'devicevec']\n",
    "\n",
    "gender_indexer = StringIndexer(inputCol='gender', outputCol='genderIndex')\n",
    "device_indexer = StringIndexer(inputCol='device', outputCol= 'deviceIndex')\n",
    "encoder = OneHotEncoderEstimator(inputCols=['genderIndex', 'deviceIndex'], outputCols=['gendervec','devicevec'])\n",
    "assembler = VectorAssembler(inputCols=inputcols, outputCol='features')\n",
    "pipeline = Pipeline(stages=[gender_indexer, device_indexer, encoder, assembler])"
   ]
  },
  {
   "cell_type": "code",
   "execution_count": 21,
   "metadata": {},
   "outputs": [
    {
     "data": {
      "application/vnd.jupyter.widget-view+json": {
       "model_id": "02cc0aedfe9d4212b7a53dddca1919a7",
       "version_major": 2,
       "version_minor": 0
      },
      "text/plain": [
       "VBox()"
      ]
     },
     "metadata": {},
     "output_type": "display_data"
    }
   ],
   "source": [
    "df_train, df_test = df.randomSplit([0.75, 0.25], seed=12)"
   ]
  },
  {
   "cell_type": "code",
   "execution_count": 22,
   "metadata": {},
   "outputs": [
    {
     "data": {
      "application/vnd.jupyter.widget-view+json": {
       "model_id": "9e78cd3eda7f463ebb003ceccdd02302",
       "version_major": 2,
       "version_minor": 0
      },
      "text/plain": [
       "VBox()"
      ]
     },
     "metadata": {},
     "output_type": "display_data"
    }
   ],
   "source": [
    "#Transform train and test datasets\n",
    "datatransform = pipeline.fit(df_train)\n",
    "train_DF = datatransform.transform(df_train).select('churn_Cancel', 'churn_Downgrade',  'features')\n",
    "test_DF = datatransform.transform(df_test).select('churn_Cancel', 'churn_Downgrade', 'features')"
   ]
  },
  {
   "cell_type": "code",
   "execution_count": 26,
   "metadata": {},
   "outputs": [
    {
     "data": {
      "application/vnd.jupyter.widget-view+json": {
       "model_id": "c3898ae97e754833b806ecedf4f1bf96",
       "version_major": 2,
       "version_minor": 0
      },
      "text/plain": [
       "VBox()"
      ]
     },
     "metadata": {},
     "output_type": "display_data"
    },
    {
     "name": "stdout",
     "output_type": "stream",
     "text": [
      "(16733, 5544)"
     ]
    }
   ],
   "source": [
    "train_DF.count(), test_DF.count()"
   ]
  },
  {
   "cell_type": "code",
   "execution_count": 32,
   "metadata": {},
   "outputs": [
    {
     "data": {
      "application/vnd.jupyter.widget-view+json": {
       "model_id": "a9fb2fcdff594c9a828427f6dc9715db",
       "version_major": 2,
       "version_minor": 0
      },
      "text/plain": [
       "VBox()"
      ]
     },
     "metadata": {},
     "output_type": "display_data"
    }
   ],
   "source": [
    "def performance(dataset, label, prediction_label):\n",
    "    \"\"\"Calculate classification performance metrics\n",
    "    Inputs:\n",
    "        dataset: dataframe of predcition by classification model\n",
    "        label: column name of true value\n",
    "        prediction_label: column name of prediction value\n",
    "    Output:\n",
    "        (metrics, score): metrics: list of classification performance metrics\n",
    "                    score: corresponding scores \n",
    "    \"\"\"\n",
    "\n",
    "    #TP\n",
    "    sql = '{:s}=1 and {:s}=1.0'.format(label, prediction_label)\n",
    "    tp = dataset.filter(sql).count()\n",
    "    #FN\n",
    "    sql = '{:s}=1 and {:s}=0.0'.format(label, prediction_label)\n",
    "    fn = dataset.filter(sql).count()\n",
    "    #TN\n",
    "    sql = '{:s}=0 and {:s}=0.0'.format(label, prediction_label)\n",
    "    tn = dataset.filter(sql).count()\n",
    "    #FP\n",
    "    sql = '{:s}=0 and {:s}=1.0'.format(label, prediction_label)\n",
    "    fp = dataset.filter(sql).count()\n",
    "    recall = tp/(tp+fn)\n",
    "    precision = tp/(tp+fp)\n",
    "    if (recall+precision) >0:\n",
    "        f1 = 2*recall*precision/(recall+precision)\n",
    "    else:\n",
    "        f1 = 0\n",
    "    accuracy = (tp+tn)/(tp+fn+fp+tn)\n",
    "    \n",
    "    return (['f1', 'Precision', 'Recall', 'Accuracy'], [f1, precision, recall, accuracy])"
   ]
  },
  {
   "cell_type": "code",
   "execution_count": 49,
   "metadata": {},
   "outputs": [
    {
     "data": {
      "application/vnd.jupyter.widget-view+json": {
       "model_id": "fad14bfdaeac4a73abbd43d8d42c8f16",
       "version_major": 2,
       "version_minor": 0
      },
      "text/plain": [
       "VBox()"
      ]
     },
     "metadata": {},
     "output_type": "display_data"
    }
   ],
   "source": [
    "def performance(dataset, label, prediction_label):\n",
    "    \"\"\"Calculate classification performance metrics\n",
    "    Inputs:\n",
    "        dataset: dataframe of predcition by classification model\n",
    "        label: column name of true value\n",
    "        prediction_label: column name of prediction value\n",
    "    Output:\n",
    "        (metrics, score): metrics: list of classification performance metrics\n",
    "                    score: corresponding scores \n",
    "    \"\"\"\n",
    "    d = dataset.collect()\n",
    "    cols = [ [x[label], x[prediction_label]] for x in d]\n",
    "    counts = np.unique(cols, return_counts=True, axis=0)\n",
    "    tn, fp, fn, tp = counts[1]*1.0\n",
    "\n",
    "    recall = tp/(tp+fn)\n",
    "    precision = tp/(tp+fp)\n",
    "    if (recall+precision) >0:\n",
    "        f1 = 2*recall*precision/(recall+precision)\n",
    "    else:\n",
    "        f1 = 0\n",
    "    accuracy = (tp+tn)/(tp+fn+fp+tn)\n",
    "    \n",
    "    return (['f1', 'Precision', 'Recall', 'Accuracy'], [f1, precision, recall, accuracy] )"
   ]
  },
  {
   "cell_type": "markdown",
   "metadata": {},
   "source": [
    "### GBT Classifier"
   ]
  },
  {
   "cell_type": "code",
   "execution_count": 28,
   "metadata": {},
   "outputs": [
    {
     "data": {
      "application/vnd.jupyter.widget-view+json": {
       "model_id": "e42a0936e28a4e6e80615cafeea986f9",
       "version_major": 2,
       "version_minor": 0
      },
      "text/plain": [
       "VBox()"
      ]
     },
     "metadata": {},
     "output_type": "display_data"
    }
   ],
   "source": [
    "# Define evalautor with F1 metric\n",
    "\n",
    "class Fevaluator:\n",
    "    def __init__(self, labelCol='label', predictionCol='prediction'):\n",
    "        self.label = labelCol\n",
    "        self.prediction = predictionCol\n",
    "        \n",
    "    def evaluate(self, dataset):\n",
    "        _, score = performance(dataset, self.label, self.prediction)\n",
    "        return score[0]  #f1 score\n",
    "    def isLargerBetter(self):\n",
    "        return True"
   ]
  },
  {
   "cell_type": "code",
   "execution_count": 23,
   "metadata": {},
   "outputs": [
    {
     "data": {
      "application/vnd.jupyter.widget-view+json": {
       "model_id": "18346c70f77042fdaa17762218d0bca9",
       "version_major": 2,
       "version_minor": 0
      },
      "text/plain": [
       "VBox()"
      ]
     },
     "metadata": {},
     "output_type": "display_data"
    },
    {
     "name": "stdout",
     "output_type": "stream",
     "text": [
      "time = 438.862s"
     ]
    }
   ],
   "source": [
    "start=time.time()\n",
    "label = 'churn_Cancel'\n",
    "gbt = GBTClassifier(labelCol=label)\n",
    "gbt_model = gbt.fit(train_DF)\n",
    "end = time.time()\n",
    "print('time = {:.3f}s'.format(end-start))"
   ]
  },
  {
   "cell_type": "code",
   "execution_count": 48,
   "metadata": {},
   "outputs": [
    {
     "data": {
      "application/vnd.jupyter.widget-view+json": {
       "model_id": "caf00e7a80ef47ae840213c743b3e988",
       "version_major": 2,
       "version_minor": 0
      },
      "text/plain": [
       "VBox()"
      ]
     },
     "metadata": {},
     "output_type": "display_data"
    },
    {
     "name": "stdout",
     "output_type": "stream",
     "text": [
      "(['f1', 'Precision', 'Recall', 'Accuracy'], [0.5274177467597208, 0.720708446866485, 0.4158805031446541, 0.829004329004329])"
     ]
    }
   ],
   "source": [
    "gbt_pred = gbt_model.transform(test_DF)\n",
    "performance(gbt_pred, 'churn_Cancel', 'prediction')"
   ]
  },
  {
   "cell_type": "code",
   "execution_count": 50,
   "metadata": {},
   "outputs": [
    {
     "data": {
      "application/vnd.jupyter.widget-view+json": {
       "model_id": "cbd70873c9494b4e8ed290baf27d382f",
       "version_major": 2,
       "version_minor": 0
      },
      "text/plain": [
       "VBox()"
      ]
     },
     "metadata": {},
     "output_type": "display_data"
    },
    {
     "name": "stdout",
     "output_type": "stream",
     "text": [
      "time = 472.988s"
     ]
    }
   ],
   "source": [
    "#train model for churn due to downgrade\n",
    "start  = time.time()\n",
    "label = 'churn_Downgrade'\n",
    "gbt = GBTClassifier(labelCol=label, subsamplingRate=0.7)\n",
    "gbt_model_downgrade = gbt.fit(train_DF)\n",
    "end = time.time()\n",
    "print('time = {:.3f}s'.format(end-start))"
   ]
  },
  {
   "cell_type": "code",
   "execution_count": 55,
   "metadata": {},
   "outputs": [
    {
     "data": {
      "application/vnd.jupyter.widget-view+json": {
       "model_id": "ae6bf20c77404e519ac78875c67230a7",
       "version_major": 2,
       "version_minor": 0
      },
      "text/plain": [
       "VBox()"
      ]
     },
     "metadata": {},
     "output_type": "display_data"
    },
    {
     "name": "stdout",
     "output_type": "stream",
     "text": [
      "(['f1', 'Precision', 'Recall', 'Accuracy'], [0.5303964757709251, 0.59251968503937, 0.4800637958532695, 0.8077200577200577])"
     ]
    }
   ],
   "source": [
    "gbt_pred_downgrade = gbt_model_downgrade.transform(test_DF)\n",
    "performance(gbt_pred_downgrade, 'churn_Downgrade', 'prediction')"
   ]
  },
  {
   "cell_type": "markdown",
   "metadata": {},
   "source": [
    "#### Feature Importance"
   ]
  },
  {
   "cell_type": "code",
   "execution_count": 56,
   "metadata": {},
   "outputs": [
    {
     "data": {
      "application/vnd.jupyter.widget-view+json": {
       "model_id": "a91bc4e7164a4cb89f65549bf895f9ff",
       "version_major": 2,
       "version_minor": 0
      },
      "text/plain": [
       "VBox()"
      ]
     },
     "metadata": {},
     "output_type": "display_data"
    }
   ],
   "source": [
    "features = ['thumb_up_ratio', 'thumb_down_ratio', 'add_friend_ratio', 'roll_advert_ratio', \n",
    "            'add_palylist_ratio', 'submit_upgrade_ratio', 'error_ratio', 'session_len_avg', \n",
    "            'session_len_std', 'time', 'gender', 'status_404', 'device0', 'device1', 'device2', 'device3']\n",
    "## churn due to cancellation\n",
    "importance_cancel = {'Feature': features, \n",
    "                                  'Importance': gbt_model.featureImportances.toArray()} \n",
    "## churn due to downgrade\n",
    "importance_downgrade = {'Feature': features, \n",
    "                                  'Importance': gbt_model_downgrade.featureImportances.toArray()}"
   ]
  },
  {
   "cell_type": "code",
   "execution_count": 57,
   "metadata": {},
   "outputs": [
    {
     "data": {
      "application/vnd.jupyter.widget-view+json": {
       "model_id": "cb19366dcba641abbc8106aaf339e7e8",
       "version_major": 2,
       "version_minor": 0
      },
      "text/plain": [
       "VBox()"
      ]
     },
     "metadata": {},
     "output_type": "display_data"
    },
    {
     "name": "stdout",
     "output_type": "stream",
     "text": [
      "{'Importance': array([0.11156252, 0.10679758, 0.06009227, 0.15211177, 0.03097527,\n",
      "       0.08795566, 0.04286932, 0.10515224, 0.09834546, 0.18061292,\n",
      "       0.00132843, 0.00328822, 0.00262389, 0.00681254, 0.00340545,\n",
      "       0.00606647]), 'Feature': ['thumb_up_ratio', 'thumb_down_ratio', 'add_friend_ratio', 'roll_advert_ratio', 'add_palylist_ratio', 'submit_upgrade_ratio', 'error_ratio', 'session_len_avg', 'session_len_std', 'time', 'gender', 'status_404', 'device0', 'device1', 'device2', 'device3']}"
     ]
    }
   ],
   "source": [
    "importance_cancel"
   ]
  },
  {
   "cell_type": "code",
   "execution_count": 58,
   "metadata": {},
   "outputs": [
    {
     "data": {
      "application/vnd.jupyter.widget-view+json": {
       "model_id": "aa95110be9fa46db9f54cb86d11655a4",
       "version_major": 2,
       "version_minor": 0
      },
      "text/plain": [
       "VBox()"
      ]
     },
     "metadata": {},
     "output_type": "display_data"
    },
    {
     "name": "stdout",
     "output_type": "stream",
     "text": [
      "{'Importance': array([0.07873384, 0.09587231, 0.07568663, 0.21681246, 0.07383164,\n",
      "       0.21422365, 0.05922658, 0.05971482, 0.06581646, 0.0407637 ,\n",
      "       0.00100988, 0.00167394, 0.00261001, 0.00144628, 0.00886811,\n",
      "       0.00370969]), 'Feature': ['thumb_up_ratio', 'thumb_down_ratio', 'add_friend_ratio', 'roll_advert_ratio', 'add_palylist_ratio', 'submit_upgrade_ratio', 'error_ratio', 'session_len_avg', 'session_len_std', 'time', 'gender', 'status_404', 'device0', 'device1', 'device2', 'device3']}"
     ]
    }
   ],
   "source": [
    "importance_downgrade"
   ]
  },
  {
   "cell_type": "code",
   "execution_count": null,
   "metadata": {},
   "outputs": [],
   "source": []
  }
 ],
 "metadata": {
  "kernelspec": {
   "display_name": "Python 3",
   "language": "python",
   "name": "python3"
  },
  "language_info": {
   "codemirror_mode": {
    "name": "ipython",
    "version": 3
   },
   "file_extension": ".py",
   "mimetype": "text/x-python",
   "name": "python",
   "nbconvert_exporter": "python",
   "pygments_lexer": "ipython3",
   "version": "3.7.2"
  }
 },
 "nbformat": 4,
 "nbformat_minor": 2
}
